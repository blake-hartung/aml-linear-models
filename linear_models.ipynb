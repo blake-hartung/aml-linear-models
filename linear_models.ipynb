{
 "cells": [
  {
   "cell_type": "markdown",
   "id": "210bb436",
   "metadata": {
    "id": "210bb436"
   },
   "source": [
    "# Applied Machine Learning - Linear | Logisitc | SVM\n",
    "### Blake Hartung"
   ]
  },
  {
   "cell_type": "code",
   "execution_count": 1,
   "id": "e27c90a6",
   "metadata": {
    "id": "e27c90a6"
   },
   "outputs": [],
   "source": [
    "import numpy as np\n",
    "import pandas as pd\n",
    "import seaborn as sns\n",
    "import matplotlib.pyplot as plt\n",
    "from numpy.linalg import inv\n",
    "%matplotlib inline\n",
    "from sklearn.model_selection import train_test_split\n",
    "from sklearn.preprocessing import StandardScaler, MinMaxScaler\n",
    "from sklearn.preprocessing import OrdinalEncoder\n",
    "from sklearn.svm import LinearSVC, SVC\n",
    "from sklearn.metrics import accuracy_score"
   ]
  },
  {
   "cell_type": "code",
   "execution_count": 2,
   "id": "b6a7879a",
   "metadata": {
    "id": "b6a7879a"
   },
   "outputs": [],
   "source": [
    "import warnings\n",
    "\n",
    "def fxn():\n",
    "    warnings.warn(\"deprecated\", DeprecationWarning)\n",
    "\n",
    "with warnings.catch_warnings():\n",
    "    warnings.simplefilter(\"ignore\")\n",
    "    fxn()"
   ]
  },
  {
   "cell_type": "code",
   "execution_count": 3,
   "id": "dec72e60",
   "metadata": {
    "id": "dec72e60"
   },
   "outputs": [],
   "source": [
    "pd.options.mode.chained_assignment = None"
   ]
  },
  {
   "cell_type": "markdown",
   "id": "5bdb2d5a",
   "metadata": {
    "id": "5bdb2d5a"
   },
   "source": [
    "**Linear Regression**"
   ]
  },
  {
   "cell_type": "markdown",
   "id": "86aea694",
   "metadata": {
    "id": "86aea694"
   },
   "source": [
    "Synthetic Linear Regression"
   ]
  },
  {
   "cell_type": "code",
   "execution_count": 4,
   "id": "4b1775f9",
   "metadata": {
    "id": "4b1775f9"
   },
   "outputs": [],
   "source": [
    "np.random.seed(0)\n",
    "epsilon = np.random.normal(0, 3, 100)\n",
    "x = np.linspace(0, 10, 100) \n",
    "y = np.linspace(0, 5, 100)\n",
    "z = 3 * x + 10 * y + 10 + epsilon"
   ]
  },
  {
   "cell_type": "markdown",
   "id": "9f9c1a48",
   "metadata": {
    "id": "9f9c1a48"
   },
   "source": [
    "Assumptions of Linear Regression:\n",
    "\n",
    "- Linearity: $y$ is a linear (technically affine) function of $x$.\n",
    "- Independence: the $x$'s are independently drawn, and not dependent on each other.\n",
    "- Homoscedasticity: the $\\epsilon$'s, and thus the $y$'s, have constant variance.\n",
    "- Normality: the $\\epsilon$'s are drawn from a Normal distribution (i.e. Normally-distributed errors)"
   ]
  },
  {
   "cell_type": "markdown",
   "id": "2be3e924",
   "metadata": {
    "id": "2be3e924"
   },
   "source": [
    "Plot z vs x and z vs y in the synthetic dataset as scatter plots."
   ]
  },
  {
   "cell_type": "code",
   "execution_count": 5,
   "id": "c5145cad",
   "metadata": {
    "id": "c5145cad"
   },
   "outputs": [
    {
     "data": {
      "image/png": "[encoded data removed]",
      "text/plain": [
       "<Figure size 432x288 with 1 Axes>"
      ]
     },
     "metadata": {
      "needs_background": "light"
     },
     "output_type": "display_data"
    }
   ],
   "source": [
    "### Plotting z vs x\n",
    "plt.scatter(z, x, c='r', marker='.')\n",
    "plt.ylim(bottom=0)\n",
    "plt.xlabel('z')\n",
    "plt.ylabel('x')\n",
    "plt.show()"
   ]
  },
  {
   "cell_type": "code",
   "execution_count": 6,
   "id": "8fbe9db6-45a5-439f-8b5d-34393748090e",
   "metadata": {
    "id": "94433e8e"
   },
   "outputs": [
    {
     "data": {
      "image/png": "[encoded data removed]",
      "text/plain": [
       "<Figure size 432x288 with 1 Axes>"
      ]
     },
     "metadata": {
      "needs_background": "light"
     },
     "output_type": "display_data"
    }
   ],
   "source": [
    "### Plotting z vs y\n",
    "plt.scatter(z, y, c='b', marker='.')\n",
    "plt.ylim(bottom=0)\n",
    "plt.xlabel('z')\n",
    "plt.ylabel('y')\n",
    "plt.show()"
   ]
  },
  {
   "cell_type": "markdown",
   "id": "a45eb9d7-db0b-4324-835e-e835f4b2128f",
   "metadata": {
    "id": "94433e8e"
   },
   "source": [
    "The features do appear to have a linear relationship, made obvious by linearly increasing axes and a relatively straight line seen."
   ]
  },
  {
   "cell_type": "markdown",
   "id": "0dbb473b",
   "metadata": {
    "id": "0dbb473b"
   },
   "source": [
    "**Pearson Correlation on Synthetic Dataset**"
   ]
  },
  {
   "cell_type": "code",
   "execution_count": 7,
   "id": "eab7372f-2755-47d5-9286-997d920ebd75",
   "metadata": {
    "id": "445ba11c"
   },
   "outputs": [
    {
     "data": {
      "text/plain": [
       "array([[1., 1.],\n",
       "       [1., 1.]])"
      ]
     },
     "execution_count": 7,
     "metadata": {},
     "output_type": "execute_result"
    }
   ],
   "source": [
    "### Your code here\n",
    "corr_coef = np.corrcoef(x, y)\n",
    "corr_coef"
   ]
  },
  {
   "cell_type": "markdown",
   "id": "d4e8cda9-53de-45f1-990f-c632b87a8be5",
   "metadata": {
    "id": "445ba11c"
   },
   "source": [
    "The two dependent variables are perfectly corellated. They are both created using a numpy linspace and are thus noiseless linear arrays starting from 0 and stepping upward at a rate defined inherently by linspace. Linear regression cannot be applied on correlated features as it will create a large variance in the weight vector result due to multicollinearity."
   ]
  },
  {
   "cell_type": "markdown",
   "id": "d57cd121",
   "metadata": {
    "id": "d57cd121"
   },
   "source": [
    "**Auto MPG Dataset**"
   ]
  },
  {
   "cell_type": "code",
   "execution_count": 8,
   "id": "d6lnQQunWxCx",
   "metadata": {
    "id": "d6lnQQunWxCx"
   },
   "outputs": [],
   "source": [
    "auto_mpg_df = pd.read_csv('Auto_mpg_data.csv')\n",
    "# Dropping Torque column, there is information in this column but it will take some preprocessing.\n",
    "# The idea of the exercise is to familarize yourself with the basics of Linear regression.\n",
    "auto_mpg_df = auto_mpg_df.drop(['torque'], axis = 1)"
   ]
  },
  {
   "cell_type": "code",
   "execution_count": 9,
   "id": "d01532cf",
   "metadata": {
    "id": "d01532cf",
    "outputId": "ea9cb509-bcc8-46bb-db9d-b1e8f71def48"
   },
   "outputs": [
    {
     "data": {
      "text/html": [
       "<div>\n",
       "<style scoped>\n",
       "    .dataframe tbody tr th:only-of-type {\n",
       "        vertical-align: middle;\n",
       "    }\n",
       "\n",
       "    .dataframe tbody tr th {\n",
       "        vertical-align: top;\n",
       "    }\n",
       "\n",
       "    .dataframe thead th {\n",
       "        text-align: right;\n",
       "    }\n",
       "</style>\n",
       "<table border=\"1\" class=\"dataframe\">\n",
       "  <thead>\n",
       "    <tr style=\"text-align: right;\">\n",
       "      <th></th>\n",
       "      <th>name</th>\n",
       "      <th>year</th>\n",
       "      <th>selling_price</th>\n",
       "      <th>km_driven</th>\n",
       "      <th>fuel</th>\n",
       "      <th>seller_type</th>\n",
       "      <th>transmission</th>\n",
       "      <th>owner</th>\n",
       "      <th>mileage</th>\n",
       "      <th>engine</th>\n",
       "      <th>max_power</th>\n",
       "      <th>seats</th>\n",
       "    </tr>\n",
       "  </thead>\n",
       "  <tbody>\n",
       "    <tr>\n",
       "      <th>0</th>\n",
       "      <td>Maruti Swift Dzire VDI</td>\n",
       "      <td>2014</td>\n",
       "      <td>450000</td>\n",
       "      <td>145500</td>\n",
       "      <td>Diesel</td>\n",
       "      <td>Individual</td>\n",
       "      <td>Manual</td>\n",
       "      <td>First Owner</td>\n",
       "      <td>23.4 kmpl</td>\n",
       "      <td>1248 CC</td>\n",
       "      <td>74 bhp</td>\n",
       "      <td>5.0</td>\n",
       "    </tr>\n",
       "    <tr>\n",
       "      <th>1</th>\n",
       "      <td>Skoda Rapid 1.5 TDI Ambition</td>\n",
       "      <td>2014</td>\n",
       "      <td>370000</td>\n",
       "      <td>120000</td>\n",
       "      <td>Diesel</td>\n",
       "      <td>Individual</td>\n",
       "      <td>Manual</td>\n",
       "      <td>Second Owner</td>\n",
       "      <td>21.14 kmpl</td>\n",
       "      <td>1498 CC</td>\n",
       "      <td>103.52 bhp</td>\n",
       "      <td>5.0</td>\n",
       "    </tr>\n",
       "    <tr>\n",
       "      <th>2</th>\n",
       "      <td>Honda City 2017-2020 EXi</td>\n",
       "      <td>2006</td>\n",
       "      <td>158000</td>\n",
       "      <td>140000</td>\n",
       "      <td>Petrol</td>\n",
       "      <td>Individual</td>\n",
       "      <td>Manual</td>\n",
       "      <td>Third Owner</td>\n",
       "      <td>17.7 kmpl</td>\n",
       "      <td>1497 CC</td>\n",
       "      <td>78 bhp</td>\n",
       "      <td>5.0</td>\n",
       "    </tr>\n",
       "    <tr>\n",
       "      <th>3</th>\n",
       "      <td>Hyundai i20 Sportz Diesel</td>\n",
       "      <td>2010</td>\n",
       "      <td>225000</td>\n",
       "      <td>127000</td>\n",
       "      <td>Diesel</td>\n",
       "      <td>Individual</td>\n",
       "      <td>Manual</td>\n",
       "      <td>First Owner</td>\n",
       "      <td>23.0 kmpl</td>\n",
       "      <td>1396 CC</td>\n",
       "      <td>90 bhp</td>\n",
       "      <td>5.0</td>\n",
       "    </tr>\n",
       "    <tr>\n",
       "      <th>4</th>\n",
       "      <td>Maruti Swift VXI BSIII</td>\n",
       "      <td>2007</td>\n",
       "      <td>130000</td>\n",
       "      <td>120000</td>\n",
       "      <td>Petrol</td>\n",
       "      <td>Individual</td>\n",
       "      <td>Manual</td>\n",
       "      <td>First Owner</td>\n",
       "      <td>16.1 kmpl</td>\n",
       "      <td>1298 CC</td>\n",
       "      <td>88.2 bhp</td>\n",
       "      <td>5.0</td>\n",
       "    </tr>\n",
       "    <tr>\n",
       "      <th>...</th>\n",
       "      <td>...</td>\n",
       "      <td>...</td>\n",
       "      <td>...</td>\n",
       "      <td>...</td>\n",
       "      <td>...</td>\n",
       "      <td>...</td>\n",
       "      <td>...</td>\n",
       "      <td>...</td>\n",
       "      <td>...</td>\n",
       "      <td>...</td>\n",
       "      <td>...</td>\n",
       "      <td>...</td>\n",
       "    </tr>\n",
       "    <tr>\n",
       "      <th>8123</th>\n",
       "      <td>Hyundai i20 Magna</td>\n",
       "      <td>2013</td>\n",
       "      <td>320000</td>\n",
       "      <td>110000</td>\n",
       "      <td>Petrol</td>\n",
       "      <td>Individual</td>\n",
       "      <td>Manual</td>\n",
       "      <td>First Owner</td>\n",
       "      <td>18.5 kmpl</td>\n",
       "      <td>1197 CC</td>\n",
       "      <td>82.85 bhp</td>\n",
       "      <td>5.0</td>\n",
       "    </tr>\n",
       "    <tr>\n",
       "      <th>8124</th>\n",
       "      <td>Hyundai Verna CRDi SX</td>\n",
       "      <td>2007</td>\n",
       "      <td>135000</td>\n",
       "      <td>119000</td>\n",
       "      <td>Diesel</td>\n",
       "      <td>Individual</td>\n",
       "      <td>Manual</td>\n",
       "      <td>Fourth &amp; Above Owner</td>\n",
       "      <td>16.8 kmpl</td>\n",
       "      <td>1493 CC</td>\n",
       "      <td>110 bhp</td>\n",
       "      <td>5.0</td>\n",
       "    </tr>\n",
       "    <tr>\n",
       "      <th>8125</th>\n",
       "      <td>Maruti Swift Dzire ZDi</td>\n",
       "      <td>2009</td>\n",
       "      <td>382000</td>\n",
       "      <td>120000</td>\n",
       "      <td>Diesel</td>\n",
       "      <td>Individual</td>\n",
       "      <td>Manual</td>\n",
       "      <td>First Owner</td>\n",
       "      <td>19.3 kmpl</td>\n",
       "      <td>1248 CC</td>\n",
       "      <td>73.9 bhp</td>\n",
       "      <td>5.0</td>\n",
       "    </tr>\n",
       "    <tr>\n",
       "      <th>8126</th>\n",
       "      <td>Tata Indigo CR4</td>\n",
       "      <td>2013</td>\n",
       "      <td>290000</td>\n",
       "      <td>25000</td>\n",
       "      <td>Diesel</td>\n",
       "      <td>Individual</td>\n",
       "      <td>Manual</td>\n",
       "      <td>First Owner</td>\n",
       "      <td>23.57 kmpl</td>\n",
       "      <td>1396 CC</td>\n",
       "      <td>70 bhp</td>\n",
       "      <td>5.0</td>\n",
       "    </tr>\n",
       "    <tr>\n",
       "      <th>8127</th>\n",
       "      <td>Tata Indigo CR4</td>\n",
       "      <td>2013</td>\n",
       "      <td>290000</td>\n",
       "      <td>25000</td>\n",
       "      <td>Diesel</td>\n",
       "      <td>Individual</td>\n",
       "      <td>Manual</td>\n",
       "      <td>First Owner</td>\n",
       "      <td>23.57 kmpl</td>\n",
       "      <td>1396 CC</td>\n",
       "      <td>70 bhp</td>\n",
       "      <td>5.0</td>\n",
       "    </tr>\n",
       "  </tbody>\n",
       "</table>\n",
       "<p>8128 rows × 12 columns</p>\n",
       "</div>"
      ],
      "text/plain": [
       "                              name  year  selling_price  km_driven    fuel  \\\n",
       "0           Maruti Swift Dzire VDI  2014         450000     145500  Diesel   \n",
       "1     Skoda Rapid 1.5 TDI Ambition  2014         370000     120000  Diesel   \n",
       "2         Honda City 2017-2020 EXi  2006         158000     140000  Petrol   \n",
       "3        Hyundai i20 Sportz Diesel  2010         225000     127000  Diesel   \n",
       "4           Maruti Swift VXI BSIII  2007         130000     120000  Petrol   \n",
       "...                            ...   ...            ...        ...     ...   \n",
       "8123             Hyundai i20 Magna  2013         320000     110000  Petrol   \n",
       "8124         Hyundai Verna CRDi SX  2007         135000     119000  Diesel   \n",
       "8125        Maruti Swift Dzire ZDi  2009         382000     120000  Diesel   \n",
       "8126               Tata Indigo CR4  2013         290000      25000  Diesel   \n",
       "8127               Tata Indigo CR4  2013         290000      25000  Diesel   \n",
       "\n",
       "     seller_type transmission                 owner     mileage   engine  \\\n",
       "0     Individual       Manual           First Owner   23.4 kmpl  1248 CC   \n",
       "1     Individual       Manual          Second Owner  21.14 kmpl  1498 CC   \n",
       "2     Individual       Manual           Third Owner   17.7 kmpl  1497 CC   \n",
       "3     Individual       Manual           First Owner   23.0 kmpl  1396 CC   \n",
       "4     Individual       Manual           First Owner   16.1 kmpl  1298 CC   \n",
       "...          ...          ...                   ...         ...      ...   \n",
       "8123  Individual       Manual           First Owner   18.5 kmpl  1197 CC   \n",
       "8124  Individual       Manual  Fourth & Above Owner   16.8 kmpl  1493 CC   \n",
       "8125  Individual       Manual           First Owner   19.3 kmpl  1248 CC   \n",
       "8126  Individual       Manual           First Owner  23.57 kmpl  1396 CC   \n",
       "8127  Individual       Manual           First Owner  23.57 kmpl  1396 CC   \n",
       "\n",
       "       max_power  seats  \n",
       "0         74 bhp    5.0  \n",
       "1     103.52 bhp    5.0  \n",
       "2         78 bhp    5.0  \n",
       "3         90 bhp    5.0  \n",
       "4       88.2 bhp    5.0  \n",
       "...          ...    ...  \n",
       "8123   82.85 bhp    5.0  \n",
       "8124     110 bhp    5.0  \n",
       "8125    73.9 bhp    5.0  \n",
       "8126      70 bhp    5.0  \n",
       "8127      70 bhp    5.0  \n",
       "\n",
       "[8128 rows x 12 columns]"
      ]
     },
     "execution_count": 9,
     "metadata": {},
     "output_type": "execute_result"
    }
   ],
   "source": [
    "auto_mpg_df"
   ]
  },
  {
   "cell_type": "markdown",
   "id": "bcccde60",
   "metadata": {
    "id": "bcccde60"
   },
   "source": [
    "**Missing Value analysis**"
   ]
  },
  {
   "cell_type": "code",
   "execution_count": 10,
   "id": "6fb583e1-cc02-4e40-a91c-c9eac12b8630",
   "metadata": {
    "id": "7136afc9"
   },
   "outputs": [
    {
     "data": {
      "text/plain": [
       "name               0\n",
       "year               0\n",
       "selling_price      0\n",
       "km_driven          0\n",
       "fuel               0\n",
       "seller_type        0\n",
       "transmission       0\n",
       "owner              0\n",
       "mileage          221\n",
       "engine           221\n",
       "max_power        215\n",
       "seats            221\n",
       "dtype: int64"
      ]
     },
     "execution_count": 10,
     "metadata": {},
     "output_type": "execute_result"
    }
   ],
   "source": [
    "### Your code here\n",
    "auto_mpg_df.isna().sum()"
   ]
  },
  {
   "cell_type": "code",
   "execution_count": 11,
   "id": "e9a8afb1-4b3a-4840-87c9-e22f02b41dd1",
   "metadata": {
    "id": "7136afc9"
   },
   "outputs": [
    {
     "data": {
      "text/plain": [
       "221"
      ]
     },
     "execution_count": 11,
     "metadata": {},
     "output_type": "execute_result"
    }
   ],
   "source": [
    "auto_mpg_df.isna().any(axis=1).sum()"
   ]
  },
  {
   "cell_type": "markdown",
   "id": "35334bce-ee42-4603-81d0-02881e914ec1",
   "metadata": {
    "id": "7136afc9"
   },
   "source": [
    "We clearly see some missing data in the columns mileage, engine, max_power, and seats. Here, with a training set of over 8100 rows, I decide to drop rows with missing columns, which turns out to be only 221 rows, as seen above."
   ]
  },
  {
   "cell_type": "code",
   "execution_count": 12,
   "id": "59b63540-769f-4589-89d0-96de45960804",
   "metadata": {
    "id": "7136afc9"
   },
   "outputs": [
    {
     "data": {
      "text/plain": [
       "0"
      ]
     },
     "execution_count": 12,
     "metadata": {},
     "output_type": "execute_result"
    }
   ],
   "source": [
    "auto_mpg_df = auto_mpg_df.dropna()\n",
    "auto_mpg_df.isna().any(axis=1).sum()"
   ]
  },
  {
   "cell_type": "markdown",
   "id": "d809bb8e",
   "metadata": {
    "id": "d809bb8e"
   },
   "source": [
    "**Remove units from data**"
   ]
  },
  {
   "cell_type": "code",
   "execution_count": 13,
   "id": "f3d9802b-9ad9-41fd-99fe-3b29f3806978",
   "metadata": {
    "id": "21b76d44"
   },
   "outputs": [],
   "source": [
    "auto_mpg_df['mileage'] = auto_mpg_df['mileage'].str.rstrip(' kmpl').str.rstrip(' km/kg').astype('float')"
   ]
  },
  {
   "cell_type": "code",
   "execution_count": 14,
   "id": "6600eb11-b682-483e-be75-d478a257b2f4",
   "metadata": {
    "id": "21b76d44"
   },
   "outputs": [],
   "source": [
    "auto_mpg_df['engine'] = auto_mpg_df['engine'].str.rstrip(' CC').astype('float')"
   ]
  },
  {
   "cell_type": "code",
   "execution_count": 15,
   "id": "86a51e5f-616e-4aea-8e80-6d220902b708",
   "metadata": {
    "id": "21b76d44"
   },
   "outputs": [],
   "source": [
    "auto_mpg_df['max_power'] = auto_mpg_df['max_power'].str.rstrip(' bhp').apply(lambda x: np.nan if x in [''] else float(x))"
   ]
  },
  {
   "cell_type": "code",
   "execution_count": 16,
   "id": "d6f310fc-deb9-433e-9fab-d581bc85c783",
   "metadata": {
    "id": "21b76d44"
   },
   "outputs": [],
   "source": [
    "auto_mpg_df = auto_mpg_df.dropna()"
   ]
  },
  {
   "cell_type": "code",
   "execution_count": 17,
   "id": "862d73f9",
   "metadata": {
    "id": "862d73f9"
   },
   "outputs": [
    {
     "data": {
      "text/html": [
       "<div>\n",
       "<style scoped>\n",
       "    .dataframe tbody tr th:only-of-type {\n",
       "        vertical-align: middle;\n",
       "    }\n",
       "\n",
       "    .dataframe tbody tr th {\n",
       "        vertical-align: top;\n",
       "    }\n",
       "\n",
       "    .dataframe thead th {\n",
       "        text-align: right;\n",
       "    }\n",
       "</style>\n",
       "<table border=\"1\" class=\"dataframe\">\n",
       "  <thead>\n",
       "    <tr style=\"text-align: right;\">\n",
       "      <th></th>\n",
       "      <th>name</th>\n",
       "      <th>year</th>\n",
       "      <th>km_driven</th>\n",
       "      <th>fuel</th>\n",
       "      <th>seller_type</th>\n",
       "      <th>transmission</th>\n",
       "      <th>owner</th>\n",
       "      <th>mileage</th>\n",
       "      <th>engine</th>\n",
       "      <th>max_power</th>\n",
       "      <th>seats</th>\n",
       "    </tr>\n",
       "  </thead>\n",
       "  <tbody>\n",
       "    <tr>\n",
       "      <th>0</th>\n",
       "      <td>Maruti Swift Dzire VDI</td>\n",
       "      <td>2014</td>\n",
       "      <td>145500</td>\n",
       "      <td>Diesel</td>\n",
       "      <td>Individual</td>\n",
       "      <td>Manual</td>\n",
       "      <td>First Owner</td>\n",
       "      <td>23.40</td>\n",
       "      <td>1248.0</td>\n",
       "      <td>74.00</td>\n",
       "      <td>5.0</td>\n",
       "    </tr>\n",
       "    <tr>\n",
       "      <th>1</th>\n",
       "      <td>Skoda Rapid 1.5 TDI Ambition</td>\n",
       "      <td>2014</td>\n",
       "      <td>120000</td>\n",
       "      <td>Diesel</td>\n",
       "      <td>Individual</td>\n",
       "      <td>Manual</td>\n",
       "      <td>Second Owner</td>\n",
       "      <td>21.14</td>\n",
       "      <td>1498.0</td>\n",
       "      <td>103.52</td>\n",
       "      <td>5.0</td>\n",
       "    </tr>\n",
       "    <tr>\n",
       "      <th>2</th>\n",
       "      <td>Honda City 2017-2020 EXi</td>\n",
       "      <td>2006</td>\n",
       "      <td>140000</td>\n",
       "      <td>Petrol</td>\n",
       "      <td>Individual</td>\n",
       "      <td>Manual</td>\n",
       "      <td>Third Owner</td>\n",
       "      <td>17.70</td>\n",
       "      <td>1497.0</td>\n",
       "      <td>78.00</td>\n",
       "      <td>5.0</td>\n",
       "    </tr>\n",
       "    <tr>\n",
       "      <th>3</th>\n",
       "      <td>Hyundai i20 Sportz Diesel</td>\n",
       "      <td>2010</td>\n",
       "      <td>127000</td>\n",
       "      <td>Diesel</td>\n",
       "      <td>Individual</td>\n",
       "      <td>Manual</td>\n",
       "      <td>First Owner</td>\n",
       "      <td>23.00</td>\n",
       "      <td>1396.0</td>\n",
       "      <td>90.00</td>\n",
       "      <td>5.0</td>\n",
       "    </tr>\n",
       "    <tr>\n",
       "      <th>4</th>\n",
       "      <td>Maruti Swift VXI BSIII</td>\n",
       "      <td>2007</td>\n",
       "      <td>120000</td>\n",
       "      <td>Petrol</td>\n",
       "      <td>Individual</td>\n",
       "      <td>Manual</td>\n",
       "      <td>First Owner</td>\n",
       "      <td>16.10</td>\n",
       "      <td>1298.0</td>\n",
       "      <td>88.20</td>\n",
       "      <td>5.0</td>\n",
       "    </tr>\n",
       "    <tr>\n",
       "      <th>...</th>\n",
       "      <td>...</td>\n",
       "      <td>...</td>\n",
       "      <td>...</td>\n",
       "      <td>...</td>\n",
       "      <td>...</td>\n",
       "      <td>...</td>\n",
       "      <td>...</td>\n",
       "      <td>...</td>\n",
       "      <td>...</td>\n",
       "      <td>...</td>\n",
       "      <td>...</td>\n",
       "    </tr>\n",
       "    <tr>\n",
       "      <th>8123</th>\n",
       "      <td>Hyundai i20 Magna</td>\n",
       "      <td>2013</td>\n",
       "      <td>110000</td>\n",
       "      <td>Petrol</td>\n",
       "      <td>Individual</td>\n",
       "      <td>Manual</td>\n",
       "      <td>First Owner</td>\n",
       "      <td>18.50</td>\n",
       "      <td>1197.0</td>\n",
       "      <td>82.85</td>\n",
       "      <td>5.0</td>\n",
       "    </tr>\n",
       "    <tr>\n",
       "      <th>8124</th>\n",
       "      <td>Hyundai Verna CRDi SX</td>\n",
       "      <td>2007</td>\n",
       "      <td>119000</td>\n",
       "      <td>Diesel</td>\n",
       "      <td>Individual</td>\n",
       "      <td>Manual</td>\n",
       "      <td>Fourth &amp; Above Owner</td>\n",
       "      <td>16.80</td>\n",
       "      <td>1493.0</td>\n",
       "      <td>110.00</td>\n",
       "      <td>5.0</td>\n",
       "    </tr>\n",
       "    <tr>\n",
       "      <th>8125</th>\n",
       "      <td>Maruti Swift Dzire ZDi</td>\n",
       "      <td>2009</td>\n",
       "      <td>120000</td>\n",
       "      <td>Diesel</td>\n",
       "      <td>Individual</td>\n",
       "      <td>Manual</td>\n",
       "      <td>First Owner</td>\n",
       "      <td>19.30</td>\n",
       "      <td>1248.0</td>\n",
       "      <td>73.90</td>\n",
       "      <td>5.0</td>\n",
       "    </tr>\n",
       "    <tr>\n",
       "      <th>8126</th>\n",
       "      <td>Tata Indigo CR4</td>\n",
       "      <td>2013</td>\n",
       "      <td>25000</td>\n",
       "      <td>Diesel</td>\n",
       "      <td>Individual</td>\n",
       "      <td>Manual</td>\n",
       "      <td>First Owner</td>\n",
       "      <td>23.57</td>\n",
       "      <td>1396.0</td>\n",
       "      <td>70.00</td>\n",
       "      <td>5.0</td>\n",
       "    </tr>\n",
       "    <tr>\n",
       "      <th>8127</th>\n",
       "      <td>Tata Indigo CR4</td>\n",
       "      <td>2013</td>\n",
       "      <td>25000</td>\n",
       "      <td>Diesel</td>\n",
       "      <td>Individual</td>\n",
       "      <td>Manual</td>\n",
       "      <td>First Owner</td>\n",
       "      <td>23.57</td>\n",
       "      <td>1396.0</td>\n",
       "      <td>70.00</td>\n",
       "      <td>5.0</td>\n",
       "    </tr>\n",
       "  </tbody>\n",
       "</table>\n",
       "<p>7906 rows × 11 columns</p>\n",
       "</div>"
      ],
      "text/plain": [
       "                              name  year  km_driven    fuel seller_type  \\\n",
       "0           Maruti Swift Dzire VDI  2014     145500  Diesel  Individual   \n",
       "1     Skoda Rapid 1.5 TDI Ambition  2014     120000  Diesel  Individual   \n",
       "2         Honda City 2017-2020 EXi  2006     140000  Petrol  Individual   \n",
       "3        Hyundai i20 Sportz Diesel  2010     127000  Diesel  Individual   \n",
       "4           Maruti Swift VXI BSIII  2007     120000  Petrol  Individual   \n",
       "...                            ...   ...        ...     ...         ...   \n",
       "8123             Hyundai i20 Magna  2013     110000  Petrol  Individual   \n",
       "8124         Hyundai Verna CRDi SX  2007     119000  Diesel  Individual   \n",
       "8125        Maruti Swift Dzire ZDi  2009     120000  Diesel  Individual   \n",
       "8126               Tata Indigo CR4  2013      25000  Diesel  Individual   \n",
       "8127               Tata Indigo CR4  2013      25000  Diesel  Individual   \n",
       "\n",
       "     transmission                 owner  mileage  engine  max_power  seats  \n",
       "0          Manual           First Owner    23.40  1248.0      74.00    5.0  \n",
       "1          Manual          Second Owner    21.14  1498.0     103.52    5.0  \n",
       "2          Manual           Third Owner    17.70  1497.0      78.00    5.0  \n",
       "3          Manual           First Owner    23.00  1396.0      90.00    5.0  \n",
       "4          Manual           First Owner    16.10  1298.0      88.20    5.0  \n",
       "...           ...                   ...      ...     ...        ...    ...  \n",
       "8123       Manual           First Owner    18.50  1197.0      82.85    5.0  \n",
       "8124       Manual  Fourth & Above Owner    16.80  1493.0     110.00    5.0  \n",
       "8125       Manual           First Owner    19.30  1248.0      73.90    5.0  \n",
       "8126       Manual           First Owner    23.57  1396.0      70.00    5.0  \n",
       "8127       Manual           First Owner    23.57  1396.0      70.00    5.0  \n",
       "\n",
       "[7906 rows x 11 columns]"
      ]
     },
     "execution_count": 17,
     "metadata": {},
     "output_type": "execute_result"
    }
   ],
   "source": [
    "auto_mpg_X = auto_mpg_df.drop(columns=['selling_price'])\n",
    "auto_mpg_y = auto_mpg_df['selling_price']\n",
    "auto_mpg_X"
   ]
  },
  {
   "cell_type": "markdown",
   "id": "e881aff2",
   "metadata": {
    "id": "e881aff2"
   },
   "source": [
    "**distribution of the label (selling_price)**"
   ]
  },
  {
   "cell_type": "code",
   "execution_count": 18,
   "id": "a0f96e30",
   "metadata": {
    "id": "a0f96e30"
   },
   "outputs": [
    {
     "data": {
      "image/png": "[encoded data removed]",
      "text/plain": [
       "<Figure size 864x432 with 4 Axes>"
      ]
     },
     "metadata": {
      "needs_background": "light"
     },
     "output_type": "display_data"
    }
   ],
   "source": [
    "fig, axs = plt.subplots(2, 2, figsize=(12,6), gridspec_kw={'hspace': 0.4})\n",
    "axs[0,0].hist(auto_mpg_y, bins=10)\n",
    "axs[0,0].set_title('Histogram of selling price, bins=10')\n",
    "axs[0,0].set_xlabel('Selling prince (Millions)')\n",
    "axs[0,0].set_ylabel('Count')\n",
    "\n",
    "axs[0,1].hist(auto_mpg_y, bins=20)\n",
    "axs[0,1].set_title('Histogram of selling price, bins=20')\n",
    "axs[0,1].set_xlabel('Selling prince (Millions)')\n",
    "axs[0,1].set_ylabel('Count')\n",
    "\n",
    "axs[1,0].hist(auto_mpg_y, bins=30)\n",
    "axs[1,0].set_title('Histogram of selling price, bins=30')\n",
    "axs[1,0].set_xlabel('Selling prince (Millions)')\n",
    "axs[1,0].set_ylabel('Count')\n",
    "\n",
    "axs[1,1].hist(auto_mpg_y, bins=40)\n",
    "axs[1,1].set_title('Histogram of selling price, bins=40')\n",
    "axs[1,1].set_xlabel('Selling prince (Millions)')\n",
    "axs[1,1].set_ylabel('Count')\n",
    "\n",
    "\n",
    "plt.show()\n",
    "\n"
   ]
  },
  {
   "cell_type": "markdown",
   "id": "5b87f7d8",
   "metadata": {
    "id": "5b87f7d8"
   },
   "source": [
    "**(Selling Price) and the continuous features (Mileage, km driven, engine, max power)**"
   ]
  },
  {
   "cell_type": "code",
   "execution_count": 19,
   "id": "c3b62169",
   "metadata": {
    "id": "c3b62169"
   },
   "outputs": [
    {
     "name": "stdout",
     "output_type": "stream",
     "text": [
      "[<AxesSubplot:> <AxesSubplot:> <AxesSubplot:> <AxesSubplot:>]\n"
     ]
    },
    {
     "data": {
      "image/png": "[encoded data removed]",
      "text/plain": [
       "<Figure size 1224x432 with 4 Axes>"
      ]
     },
     "metadata": {
      "needs_background": "light"
     },
     "output_type": "display_data"
    }
   ],
   "source": [
    "### Your code here\n",
    "y_label = 'Selling Price (Millions)'\n",
    "x_labels = ['mileage', 'km_driven', 'engine', 'max_power']\n",
    "colors = ['b', 'g', 'r', 'y']\n",
    "\n",
    "fig, ax = plt.subplots(1, 4, squeeze=True, figsize=(17,6), gridspec_kw={'hspace': 0.4})\n",
    "print(ax)\n",
    "for i in range(4):\n",
    "    ax[i].scatter(auto_mpg_X[x_labels[i]], auto_mpg_y, c=colors[i])\n",
    "    ax[i].set_xlabel(x_labels[i])\n",
    "    ax[i].set_ylabel(y_label)\n",
    "\n",
    "plt.show()"
   ]
  },
  {
   "cell_type": "markdown",
   "id": "84ffa354",
   "metadata": {
    "id": "84ffa354"
   },
   "source": [
    "(Selling Price) and (fuel type, Seller type, transmission) using a small multiple of box plots."
   ]
  },
  {
   "cell_type": "code",
   "execution_count": 20,
   "id": "16812f56",
   "metadata": {
    "id": "16812f56"
   },
   "outputs": [
    {
     "data": {
      "image/png": "[encoded data removed]",
      "text/plain": [
       "<Figure size 432x288 with 1 Axes>"
      ]
     },
     "metadata": {
      "needs_background": "light"
     },
     "output_type": "display_data"
    },
    {
     "data": {
      "image/png": "[encoded data removed]",
      "text/plain": [
       "<Figure size 432x288 with 1 Axes>"
      ]
     },
     "metadata": {
      "needs_background": "light"
     },
     "output_type": "display_data"
    },
    {
     "data": {
      "image/png": "[encoded data removed]",
      "text/plain": [
       "<Figure size 432x288 with 1 Axes>"
      ]
     },
     "metadata": {
      "needs_background": "light"
     },
     "output_type": "display_data"
    }
   ],
   "source": [
    "x_labels = ['fuel', 'seller_type', 'transmission']\n",
    "\n",
    "sns.boxplot(x=x_labels[0], y='selling_price', data=auto_mpg_df)\n",
    "plt.show()\n",
    "sns.boxplot(x=x_labels[1], y='selling_price', data=auto_mpg_df)\n",
    "plt.show()\n",
    "sns.boxplot(x=x_labels[2], y='selling_price', data=auto_mpg_df)\n",
    "plt.show()"
   ]
  },
  {
   "cell_type": "markdown",
   "id": "28eaf41d",
   "metadata": {
    "id": "28eaf41d"
   },
   "source": [
    "Why LinReg?"
   ]
  },
  {
   "cell_type": "markdown",
   "id": "9ea1bd1f-34a0-49d9-853f-aab5ff466644",
   "metadata": {
    "id": "50c93674"
   },
   "source": [
    "I do believe that this data would be good for a linear regression. Some features, like mileage, don't seem to be correlated to our target very well while others, like being sold from a dealer or max power look pretty strongly correlated. I do worry about multicollinearity between mnax power and engine size, however."
   ]
  },
  {
   "cell_type": "code",
   "execution_count": 21,
   "id": "1c7fb6c1",
   "metadata": {
    "id": "1c7fb6c1"
   },
   "outputs": [],
   "source": [
    "auto_mpg_X['year'] =  2020 - auto_mpg_X['year']"
   ]
  },
  {
   "cell_type": "code",
   "execution_count": 22,
   "id": "4fdee656",
   "metadata": {
    "id": "4fdee656",
    "outputId": "c91123e2-48c1-4046-d283-3e54926a9a8a"
   },
   "outputs": [
    {
     "data": {
      "text/html": [
       "<div>\n",
       "<style scoped>\n",
       "    .dataframe tbody tr th:only-of-type {\n",
       "        vertical-align: middle;\n",
       "    }\n",
       "\n",
       "    .dataframe tbody tr th {\n",
       "        vertical-align: top;\n",
       "    }\n",
       "\n",
       "    .dataframe thead th {\n",
       "        text-align: right;\n",
       "    }\n",
       "</style>\n",
       "<table border=\"1\" class=\"dataframe\">\n",
       "  <thead>\n",
       "    <tr style=\"text-align: right;\">\n",
       "      <th></th>\n",
       "      <th>year</th>\n",
       "      <th>km_driven</th>\n",
       "      <th>fuel</th>\n",
       "      <th>seller_type</th>\n",
       "      <th>transmission</th>\n",
       "      <th>owner</th>\n",
       "      <th>mileage</th>\n",
       "      <th>engine</th>\n",
       "      <th>max_power</th>\n",
       "      <th>seats</th>\n",
       "    </tr>\n",
       "  </thead>\n",
       "  <tbody>\n",
       "    <tr>\n",
       "      <th>0</th>\n",
       "      <td>6</td>\n",
       "      <td>145500</td>\n",
       "      <td>Diesel</td>\n",
       "      <td>Individual</td>\n",
       "      <td>Manual</td>\n",
       "      <td>First Owner</td>\n",
       "      <td>23.40</td>\n",
       "      <td>1248.0</td>\n",
       "      <td>74.00</td>\n",
       "      <td>5.0</td>\n",
       "    </tr>\n",
       "    <tr>\n",
       "      <th>1</th>\n",
       "      <td>6</td>\n",
       "      <td>120000</td>\n",
       "      <td>Diesel</td>\n",
       "      <td>Individual</td>\n",
       "      <td>Manual</td>\n",
       "      <td>Second Owner</td>\n",
       "      <td>21.14</td>\n",
       "      <td>1498.0</td>\n",
       "      <td>103.52</td>\n",
       "      <td>5.0</td>\n",
       "    </tr>\n",
       "    <tr>\n",
       "      <th>2</th>\n",
       "      <td>14</td>\n",
       "      <td>140000</td>\n",
       "      <td>Petrol</td>\n",
       "      <td>Individual</td>\n",
       "      <td>Manual</td>\n",
       "      <td>Third Owner</td>\n",
       "      <td>17.70</td>\n",
       "      <td>1497.0</td>\n",
       "      <td>78.00</td>\n",
       "      <td>5.0</td>\n",
       "    </tr>\n",
       "    <tr>\n",
       "      <th>3</th>\n",
       "      <td>10</td>\n",
       "      <td>127000</td>\n",
       "      <td>Diesel</td>\n",
       "      <td>Individual</td>\n",
       "      <td>Manual</td>\n",
       "      <td>First Owner</td>\n",
       "      <td>23.00</td>\n",
       "      <td>1396.0</td>\n",
       "      <td>90.00</td>\n",
       "      <td>5.0</td>\n",
       "    </tr>\n",
       "    <tr>\n",
       "      <th>4</th>\n",
       "      <td>13</td>\n",
       "      <td>120000</td>\n",
       "      <td>Petrol</td>\n",
       "      <td>Individual</td>\n",
       "      <td>Manual</td>\n",
       "      <td>First Owner</td>\n",
       "      <td>16.10</td>\n",
       "      <td>1298.0</td>\n",
       "      <td>88.20</td>\n",
       "      <td>5.0</td>\n",
       "    </tr>\n",
       "  </tbody>\n",
       "</table>\n",
       "</div>"
      ],
      "text/plain": [
       "   year  km_driven    fuel seller_type transmission         owner  mileage  \\\n",
       "0     6     145500  Diesel  Individual       Manual   First Owner    23.40   \n",
       "1     6     120000  Diesel  Individual       Manual  Second Owner    21.14   \n",
       "2    14     140000  Petrol  Individual       Manual   Third Owner    17.70   \n",
       "3    10     127000  Diesel  Individual       Manual   First Owner    23.00   \n",
       "4    13     120000  Petrol  Individual       Manual   First Owner    16.10   \n",
       "\n",
       "   engine  max_power  seats  \n",
       "0  1248.0      74.00    5.0  \n",
       "1  1498.0     103.52    5.0  \n",
       "2  1497.0      78.00    5.0  \n",
       "3  1396.0      90.00    5.0  \n",
       "4  1298.0      88.20    5.0  "
      ]
     },
     "execution_count": 22,
     "metadata": {},
     "output_type": "execute_result"
    }
   ],
   "source": [
    "#dropping the car name as it is irrelevant.\n",
    "auto_mpg_X.drop(['name'],axis = 1,inplace=True)\n",
    "\n",
    "#check out the dataset with new changes\n",
    "auto_mpg_X.head()"
   ]
  },
  {
   "cell_type": "markdown",
   "id": "71ebca87",
   "metadata": {
    "id": "71ebca87"
   },
   "source": [
    "**Data Pre-processing**"
   ]
  },
  {
   "cell_type": "markdown",
   "id": "6980d1e4",
   "metadata": {
    "id": "6980d1e4"
   },
   "source": [
    "1. Encode categorial features\n",
    "2. Split the dataset into training (60%), validation (20%), and test (20%) sets.\n",
    "3. Standardize the columns in the feature matrices X_train, X_val, and X_test (zero mean and unit variance).\n",
    "4. To avoid information leakage, learn the standardization parameters (mean, variance) from X_train, and apply it to X_train, X_val, and X_test.\n",
    "5. Add a column of ones to the feature matrices X_train, X_val, and X_test as a bias.\n"
   ]
  },
  {
   "cell_type": "code",
   "execution_count": 23,
   "id": "91e811a1-e52d-4462-9d1f-74a36129f107",
   "metadata": {
    "id": "8711d6a7"
   },
   "outputs": [],
   "source": [
    "# 1. No categorical features in the synthetic dataset (skip this step)\n",
    "# dropping owner and seats as it was not asked for in features, then one hot encoding other\n",
    "auto_mpg_X.drop(['owner'], axis=1, inplace=True)\n",
    "auto_mpg_X.drop(['seats'], axis=1, inplace=True)"
   ]
  },
  {
   "cell_type": "code",
   "execution_count": 24,
   "id": "10addc0a-4545-4a23-80ba-ff2c91531c9a",
   "metadata": {
    "id": "8711d6a7"
   },
   "outputs": [
    {
     "data": {
      "text/html": [
       "<div>\n",
       "<style scoped>\n",
       "    .dataframe tbody tr th:only-of-type {\n",
       "        vertical-align: middle;\n",
       "    }\n",
       "\n",
       "    .dataframe tbody tr th {\n",
       "        vertical-align: top;\n",
       "    }\n",
       "\n",
       "    .dataframe thead th {\n",
       "        text-align: right;\n",
       "    }\n",
       "</style>\n",
       "<table border=\"1\" class=\"dataframe\">\n",
       "  <thead>\n",
       "    <tr style=\"text-align: right;\">\n",
       "      <th></th>\n",
       "      <th>year</th>\n",
       "      <th>km_driven</th>\n",
       "      <th>mileage</th>\n",
       "      <th>engine</th>\n",
       "      <th>max_power</th>\n",
       "      <th>fuel_CNG</th>\n",
       "      <th>fuel_Diesel</th>\n",
       "      <th>fuel_LPG</th>\n",
       "      <th>fuel_Petrol</th>\n",
       "      <th>seller_type_Dealer</th>\n",
       "      <th>seller_type_Individual</th>\n",
       "      <th>seller_type_Trustmark Dealer</th>\n",
       "      <th>transmission_Automatic</th>\n",
       "      <th>transmission_Manual</th>\n",
       "    </tr>\n",
       "  </thead>\n",
       "  <tbody>\n",
       "    <tr>\n",
       "      <th>0</th>\n",
       "      <td>6</td>\n",
       "      <td>145500</td>\n",
       "      <td>23.40</td>\n",
       "      <td>1248.0</td>\n",
       "      <td>74.00</td>\n",
       "      <td>0</td>\n",
       "      <td>1</td>\n",
       "      <td>0</td>\n",
       "      <td>0</td>\n",
       "      <td>0</td>\n",
       "      <td>1</td>\n",
       "      <td>0</td>\n",
       "      <td>0</td>\n",
       "      <td>1</td>\n",
       "    </tr>\n",
       "    <tr>\n",
       "      <th>1</th>\n",
       "      <td>6</td>\n",
       "      <td>120000</td>\n",
       "      <td>21.14</td>\n",
       "      <td>1498.0</td>\n",
       "      <td>103.52</td>\n",
       "      <td>0</td>\n",
       "      <td>1</td>\n",
       "      <td>0</td>\n",
       "      <td>0</td>\n",
       "      <td>0</td>\n",
       "      <td>1</td>\n",
       "      <td>0</td>\n",
       "      <td>0</td>\n",
       "      <td>1</td>\n",
       "    </tr>\n",
       "    <tr>\n",
       "      <th>2</th>\n",
       "      <td>14</td>\n",
       "      <td>140000</td>\n",
       "      <td>17.70</td>\n",
       "      <td>1497.0</td>\n",
       "      <td>78.00</td>\n",
       "      <td>0</td>\n",
       "      <td>0</td>\n",
       "      <td>0</td>\n",
       "      <td>1</td>\n",
       "      <td>0</td>\n",
       "      <td>1</td>\n",
       "      <td>0</td>\n",
       "      <td>0</td>\n",
       "      <td>1</td>\n",
       "    </tr>\n",
       "    <tr>\n",
       "      <th>3</th>\n",
       "      <td>10</td>\n",
       "      <td>127000</td>\n",
       "      <td>23.00</td>\n",
       "      <td>1396.0</td>\n",
       "      <td>90.00</td>\n",
       "      <td>0</td>\n",
       "      <td>1</td>\n",
       "      <td>0</td>\n",
       "      <td>0</td>\n",
       "      <td>0</td>\n",
       "      <td>1</td>\n",
       "      <td>0</td>\n",
       "      <td>0</td>\n",
       "      <td>1</td>\n",
       "    </tr>\n",
       "    <tr>\n",
       "      <th>4</th>\n",
       "      <td>13</td>\n",
       "      <td>120000</td>\n",
       "      <td>16.10</td>\n",
       "      <td>1298.0</td>\n",
       "      <td>88.20</td>\n",
       "      <td>0</td>\n",
       "      <td>0</td>\n",
       "      <td>0</td>\n",
       "      <td>1</td>\n",
       "      <td>0</td>\n",
       "      <td>1</td>\n",
       "      <td>0</td>\n",
       "      <td>0</td>\n",
       "      <td>1</td>\n",
       "    </tr>\n",
       "  </tbody>\n",
       "</table>\n",
       "</div>"
      ],
      "text/plain": [
       "   year  km_driven  mileage  engine  max_power  fuel_CNG  fuel_Diesel  \\\n",
       "0     6     145500    23.40  1248.0      74.00         0            1   \n",
       "1     6     120000    21.14  1498.0     103.52         0            1   \n",
       "2    14     140000    17.70  1497.0      78.00         0            0   \n",
       "3    10     127000    23.00  1396.0      90.00         0            1   \n",
       "4    13     120000    16.10  1298.0      88.20         0            0   \n",
       "\n",
       "   fuel_LPG  fuel_Petrol  seller_type_Dealer  seller_type_Individual  \\\n",
       "0         0            0                   0                       1   \n",
       "1         0            0                   0                       1   \n",
       "2         0            1                   0                       1   \n",
       "3         0            0                   0                       1   \n",
       "4         0            1                   0                       1   \n",
       "\n",
       "   seller_type_Trustmark Dealer  transmission_Automatic  transmission_Manual  \n",
       "0                             0                       0                    1  \n",
       "1                             0                       0                    1  \n",
       "2                             0                       0                    1  \n",
       "3                             0                       0                    1  \n",
       "4                             0                       0                    1  "
      ]
     },
     "execution_count": 24,
     "metadata": {},
     "output_type": "execute_result"
    }
   ],
   "source": [
    "for cat_label in x_labels:\n",
    "    dummies = pd.get_dummies(auto_mpg_X[cat_label], prefix=cat_label)\n",
    "    auto_mpg_X.drop([cat_label], axis=1, inplace=True)\n",
    "    auto_mpg_X = auto_mpg_X.merge(dummies, left_index=True, right_index=True)\n",
    "auto_mpg_X.head()"
   ]
  },
  {
   "cell_type": "code",
   "execution_count": 25,
   "id": "292e4896-f018-4a8d-9831-daf2163df522",
   "metadata": {
    "id": "8711d6a7"
   },
   "outputs": [],
   "source": [
    "# 2. Split the dataset into training (60%), validation (20%), and test (20%) sets\n",
    "auto_mpg_X_train, auto_mpg_X_40, auto_mpg_y_train, auto_mpg_y_40 = train_test_split(auto_mpg_X, auto_mpg_y,\n",
    "                                                                                    train_size=0.6, random_state=23)\n",
    "auto_mpg_X_val, auto_mpg_X_test, auto_mpg_y_val, auto_mpg_y_test = train_test_split(auto_mpg_X_40, auto_mpg_y_40,\n",
    "                                                                                    train_size=0.6, random_state=23)"
   ]
  },
  {
   "cell_type": "code",
   "execution_count": null,
   "id": "710ef108-2a2e-4140-a956-b78a15ccfbec",
   "metadata": {
    "id": "8711d6a7"
   },
   "outputs": [],
   "source": []
  },
  {
   "cell_type": "code",
   "execution_count": 26,
   "id": "0d37eb3b-ba67-4298-a010-0231c5aead36",
   "metadata": {
    "id": "8711d6a7"
   },
   "outputs": [],
   "source": [
    "# 3. Standardize the columns in the feature matrices\n",
    "num_features = ['mileage', 'km_driven', 'engine', 'max_power']\n",
    "for feature in num_features:\n",
    "    # find column features\n",
    "    train_mean = auto_mpg_X_train[feature].mean()\n",
    "    train_std = auto_mpg_X_train[feature].std()\n",
    "    # alter columns\n",
    "    auto_mpg_X_train[feature] = auto_mpg_X_train[feature].apply(lambda x: (x - train_mean) / train_std)\n",
    "    auto_mpg_X_val[feature] = auto_mpg_X_val[feature].apply(lambda x: (x - train_mean) / train_std)\n",
    "    auto_mpg_X_test[feature] = auto_mpg_X_test[feature].apply(lambda x: (x - train_mean) / train_std)\n",
    "    \n",
    "# 4. Add a column of ones to the feature matrices\n",
    "auto_mpg_X_train['bias_feature'] = 1\n",
    "auto_mpg_X_val['bias_feature'] = 1\n",
    "auto_mpg_X_test['bias_feature'] = 1"
   ]
  },
  {
   "cell_type": "code",
   "execution_count": 27,
   "id": "309c3b51-494f-46d4-a113-96c1fc1f4c17",
   "metadata": {
    "id": "8711d6a7"
   },
   "outputs": [
    {
     "data": {
      "text/plain": [
       "year                            6.036900\n",
       "km_driven                       0.024519\n",
       "mileage                        -0.014475\n",
       "engine                          0.002366\n",
       "max_power                       0.021040\n",
       "fuel_CNG                        0.007380\n",
       "fuel_Diesel                     0.554033\n",
       "fuel_LPG                        0.004217\n",
       "fuel_Petrol                     0.434370\n",
       "seller_type_Dealer              0.139167\n",
       "seller_type_Individual          0.837638\n",
       "seller_type_Trustmark Dealer    0.023195\n",
       "transmission_Automatic          0.121244\n",
       "transmission_Manual             0.878756\n",
       "bias_feature                    1.000000\n",
       "dtype: float64"
      ]
     },
     "execution_count": 27,
     "metadata": {},
     "output_type": "execute_result"
    }
   ],
   "source": [
    "auto_mpg_X_val.mean()"
   ]
  },
  {
   "cell_type": "markdown",
   "id": "950f6e97",
   "metadata": {
    "id": "950f6e97"
   },
   "source": [
    "**At the end of this pre-processing, we have the following vectors and matrices:**\n",
    "\n",
    "**- Auto MPG dataset: auto_mpg_X_train, auto_mpg_X_val, auto_mpg_X_test, auto_mpg_y_train, auto_mpg_y_val, auto_mpg_y_test**"
   ]
  },
  {
   "cell_type": "markdown",
   "id": "1e3b7ca8",
   "metadata": {
    "id": "1e3b7ca8"
   },
   "source": [
    "**Implement Linear Regression**"
   ]
  },
  {
   "cell_type": "markdown",
   "id": "63b659a6",
   "metadata": {
    "id": "63b659a6"
   },
   "source": [
    "Now, we can implement our linear regression model! Specifically, we will be implementing ridge regression, which is linear regression with L2 regularization. Given an (m x n) feature matrix $X$, an (m x 1) label vector $y$, and an (n x 1) weight vector $w$, the hypothesis function for linear regression is:\n",
    "\n",
    "$$\n",
    "y = X w\n",
    "$$\n",
    "\n",
    "Note that we can omit the bias term here because we have included a column of ones in our $X$ matrix, so the bias term is learned implicitly as a part of $w$. This will make our implementation easier.\n",
    "\n",
    "Our objective in linear regression is to learn the weights $w$ which best fit the data. This notion can be formalized as finding the optimal $w$ which minimizes the following loss function:\n",
    "\n",
    "$$\n",
    "\\min_{w} \\| X w - y \\|^2_2 + \\alpha \\| w \\|^2_2 \\\\\n",
    "$$\n",
    "\n",
    "This is the ridge regression loss function. The $\\| X w - y \\|^2_2$ term penalizes predictions $Xw$ which are not close to the label $y$. And the $\\alpha \\| w \\|^2_2$ penalizes large weight values, to favor a simpler, more generalizable model. The $\\alpha$ hyperparameter, known as the regularization parameter, is used to tune the complexity of the model - a higher $\\alpha$ results in smaller weights and lower complexity, and vice versa. Setting $\\alpha = 0$ gives us vanilla linear regression.\n",
    "\n",
    "Conveniently, ridge regression has a closed-form solution which gives us the optimal $w$ without having to do iterative methods such as gradient descent. The closed-form solution, known as the Normal Equations, is given by:\n",
    "\n",
    "$$\n",
    "w = (X^T X + \\alpha I)^{-1} X^T y\n",
    "$$"
   ]
  },
  {
   "cell_type": "markdown",
   "id": "a7e132b4",
   "metadata": {
    "id": "a7e132b4"
   },
   "source": [
    "**Implement `LinearRegression` class with two methods: `train` and `predict`.**"
   ]
  },
  {
   "cell_type": "code",
   "execution_count": 28,
   "id": "2e8cee4a",
   "metadata": {
    "id": "2e8cee4a"
   },
   "outputs": [],
   "source": [
    "class LinearRegression():\n",
    "    '''\n",
    "    Linear regression model with L2-regularization (i.e. ridge regression).\n",
    "\n",
    "    Attributes\n",
    "    ----------\n",
    "    alpha: regularization parameter\n",
    "    w: (n x 1) weight vector\n",
    "    '''\n",
    "    \n",
    "    def __init__(self, alpha=0):\n",
    "        self.alpha = alpha\n",
    "        self.w = None\n",
    "\n",
    "    def train(self, X, y):\n",
    "        '''Trains model using ridge regression closed-form solution \n",
    "        (sets w to its optimal value).\n",
    "        \n",
    "        Parameters\n",
    "        ----------\n",
    "        X : (m x n) feature matrix\n",
    "        y: (m x 1) label vector\n",
    "        \n",
    "        Returns\n",
    "        -------\n",
    "        None\n",
    "        '''\n",
    "        identity = np.identity(len(X.columns))\n",
    "        coef_matrix = (X.T @ X) + (self.alpha * identity)\n",
    "        ordinate = X.T @ y\n",
    "        self.closed_soln = np.linalg.solve(coef_matrix, ordinate)\n",
    "        \n",
    "        \n",
    "    def predict(self, X):\n",
    "        '''Predicts on X using trained model.\n",
    "        \n",
    "        Parameters\n",
    "        ----------\n",
    "        X : (m x n) feature matrix\n",
    "        \n",
    "        Returns\n",
    "        -------\n",
    "        y_pred: (m x 1) prediction vector\n",
    "        '''\n",
    "        preds = X @ self.closed_soln\n",
    "        return preds"
   ]
  },
  {
   "cell_type": "markdown",
   "id": "c48a741e",
   "metadata": {
    "id": "c48a741e"
   },
   "source": [
    "**Train, Evaluate, and Interpret Linear Regression Model**"
   ]
  },
  {
   "cell_type": "code",
   "execution_count": 29,
   "id": "ab19da1b-753b-47e5-8866-a30d7d10aaeb",
   "metadata": {
    "id": "252db724"
   },
   "outputs": [],
   "source": [
    "def mse(x, y):\n",
    "    return np.sum((x-y)**2) / len(y)"
   ]
  },
  {
   "cell_type": "code",
   "execution_count": 30,
   "id": "8b79907f-69b9-4a25-a678-038a3a3eca97",
   "metadata": {
    "id": "252db724"
   },
   "outputs": [
    {
     "name": "stdout",
     "output_type": "stream",
     "text": [
      "Training results\n",
      "MSE: 213249537675.52966\n",
      "First 5 Results\n",
      "        preds   actual\n",
      "1714  1923449  2000000\n",
      "6318   422326   180000\n",
      "5082   525998   120000\n",
      "2339   248351   215000\n",
      "469    368149   600000\n",
      "\n",
      "Validation results\n",
      "MSE: 230945557161.5053\n",
      "First 5 Results\n",
      "        preds  actual\n",
      "2153   416780  250000\n",
      "2019  1014563  550000\n",
      "1618   462850  385000\n",
      "6976  1471581  645000\n",
      "7445   174647  254999\n",
      "\n",
      "Test results\n",
      "MSE: 190396737887.34253\n",
      "First 5 Results\n",
      "       preds  actual\n",
      "7105  108498  170000\n",
      "3047  319826  450000\n",
      "7636  172798  250000\n",
      "5653  437302  350000\n",
      "5931  564327  500000\n"
     ]
    }
   ],
   "source": [
    "linreg = LinearRegression()\n",
    "linreg.train(auto_mpg_X_train, auto_mpg_y_train)\n",
    "train_preds = linreg.predict(auto_mpg_X_train)\n",
    "print(\"Training results\")\n",
    "print(\"MSE:\", mse(train_preds, auto_mpg_y_train))\n",
    "print(\"First 5 Results\")\n",
    "print(pd.DataFrame({\"preds\": train_preds[:5].astype('int'), \"actual\": auto_mpg_y_train[:5]}))\n",
    "print()\n",
    "val_preds = linreg.predict(auto_mpg_X_val)\n",
    "print(\"Validation results\")\n",
    "print(\"MSE:\", mse(val_preds, auto_mpg_y_val))\n",
    "print(\"First 5 Results\")\n",
    "print(pd.DataFrame({\"preds\": val_preds[:5].astype('int'), \"actual\": auto_mpg_y_val[:5]}))\n",
    "print()\n",
    "test_preds = linreg.predict(auto_mpg_X_test)\n",
    "print(\"Test results\")\n",
    "print(\"MSE:\", mse(test_preds, auto_mpg_y_test))\n",
    "print(\"First 5 Results\")\n",
    "print(pd.DataFrame({\"preds\": test_preds[:5].astype('int'), \"actual\": auto_mpg_y_test[:5]}))"
   ]
  },
  {
   "cell_type": "markdown",
   "id": "9fad4d6f",
   "metadata": {
    "id": "9fad4d6f"
   },
   "source": [
    "**As a baseline model, use the mean of the training labels (auto_mpg_y_train) as the prediction for all instances.**"
   ]
  },
  {
   "cell_type": "code",
   "execution_count": 31,
   "id": "74d948c5",
   "metadata": {
    "id": "74d948c5"
   },
   "outputs": [
    {
     "name": "stdout",
     "output_type": "stream",
     "text": [
      "Base Train MSE (TOP) vs linereg MSE\n",
      "689813518223.1897\n",
      "212781705266.9667\n",
      "\n",
      "Base Val MSE (TOP) vs linereg MSE\n",
      "683923579781.1\n",
      "232706214669.2992\n",
      "\n",
      "Base Test MSE (TOP) vs linereg MSE\n",
      "524381484575.09045\n",
      "181735097199.24805\n"
     ]
    }
   ],
   "source": [
    "train_mean = auto_mpg_y_train.mean()\n",
    "print('Base Train MSE (TOP) vs linereg MSE')\n",
    "print(mse(train_mean, auto_mpg_y_train))\n",
    "print(212781705266.9667)\n",
    "print()\n",
    "print('Base Val MSE (TOP) vs linereg MSE')\n",
    "print(mse(train_mean, auto_mpg_y_val))\n",
    "print(232706214669.2992)\n",
    "print()\n",
    "print('Base Test MSE (TOP) vs linereg MSE')\n",
    "print(mse(train_mean, auto_mpg_y_test))\n",
    "print(181735097199.24805)"
   ]
  },
  {
   "cell_type": "markdown",
   "id": "726f5bb6",
   "metadata": {
    "id": "726f5bb6"
   },
   "source": [
    "**Model Interpretation**"
   ]
  },
  {
   "cell_type": "code",
   "execution_count": 32,
   "id": "f86c9250-def4-4412-9a7f-1d0a25539412",
   "metadata": {
    "id": "9fccabaa"
   },
   "outputs": [
    {
     "data": {
      "image/png": "[encoded data removed]",
      "text/plain": [
       "<Figure size 1080x720 with 1 Axes>"
      ]
     },
     "metadata": {
      "needs_background": "light"
     },
     "output_type": "display_data"
    }
   ],
   "source": [
    "fig = plt.figure(figsize=(15,10))\n",
    "colnames = list(auto_mpg_X_train.columns)\n",
    "weights = list(linreg.closed_soln)\n",
    "ax = sns.barplot(x=colnames, y=weights)\n",
    "ax.tick_params(axis='x', rotation=90)"
   ]
  },
  {
   "cell_type": "markdown",
   "id": "0db857e9-4f05-4062-b892-ec06aee34904",
   "metadata": {
    "id": "9fccabaa"
   },
   "source": [
    "The categorical features have an unnecessarily high weight here, as well as the bias feature. It seems like something is off, I definitely need an alpha change to try to alleviate this."
   ]
  },
  {
   "cell_type": "markdown",
   "id": "c12c284a",
   "metadata": {
    "id": "c12c284a"
   },
   "source": [
    "**Tune Regularization Parameter $\\alpha$**"
   ]
  },
  {
   "cell_type": "markdown",
   "id": "2a3e73e6",
   "metadata": {
    "id": "2a3e73e6"
   },
   "source": [
    "RedgeReg Tuning\n",
    "\n",
    "Sweep out values for $\\alpha$ using `alphas = np.logspace(-2, 1, 10)`, performing simple grid search."
   ]
  },
  {
   "cell_type": "code",
   "execution_count": 33,
   "id": "d0593364-1cb4-4c96-b08f-22d2d7778551",
   "metadata": {
    "id": "97cb6245"
   },
   "outputs": [
    {
     "name": "stdout",
     "output_type": "stream",
     "text": [
      "Trained\n",
      "Trained\n",
      "Trained\n",
      "Trained\n",
      "Trained\n",
      "Trained\n",
      "Trained\n",
      "Trained\n",
      "Trained\n",
      "Trained\n"
     ]
    }
   ],
   "source": [
    "alphas = np.logspace(-2, 1, 10)\n",
    "train_mses = list()\n",
    "val_mses = list()\n",
    "for a in alphas:\n",
    "    linreg_a = LinearRegression(alpha=a)\n",
    "    linreg_a.train(auto_mpg_X_train, auto_mpg_y_train)\n",
    "    print('Trained')\n",
    "    train_preds = linreg_a.predict(auto_mpg_X_train)\n",
    "    train_mse = mse(train_preds, auto_mpg_y_train)\n",
    "    train_mses.append(train_mse)\n",
    "    val_preds = linreg_a.predict(auto_mpg_X_val)\n",
    "    val_mse = mse(val_preds, auto_mpg_y_val)\n",
    "    val_mses.append(val_mse)"
   ]
  },
  {
   "cell_type": "code",
   "execution_count": 34,
   "id": "f4392569-a420-4d0e-ade5-9feee168e015",
   "metadata": {
    "id": "97cb6245"
   },
   "outputs": [
    {
     "data": {
      "text/plain": [
       "array([480568.52803029, 480569.1924564 , 480570.62480434, 480573.71478569,\n",
       "       480580.3906174 , 480594.85723779, 480626.38914159, 480695.79024938,\n",
       "       480850.36528818, 481195.91165522])"
      ]
     },
     "execution_count": 34,
     "metadata": {},
     "output_type": "execute_result"
    }
   ],
   "source": [
    "np.array(val_mses) ** (1/2)"
   ]
  },
  {
   "cell_type": "code",
   "execution_count": 35,
   "id": "e6909193-15e9-4aea-bcc9-67bedf5ff3dd",
   "metadata": {
    "id": "97cb6245"
   },
   "outputs": [
    {
     "data": {
      "image/png": "[encoded data removed]",
      "text/plain": [
       "<Figure size 720x432 with 1 Axes>"
      ]
     },
     "metadata": {
      "needs_background": "light"
     },
     "output_type": "display_data"
    }
   ],
   "source": [
    "plt.figure(figsize=(10, 6))\n",
    "plt.plot(alphas, val_mses, 'k.-', label=\"Test MSE\")\n",
    "plt.plot(alphas, train_mses, 'r.-', label=\"Train MSE\")\n",
    "plt.legend()\n",
    "plt.xlabel('Alpha')\n",
    "plt.ylabel('MSE')\n",
    "plt.show()"
   ]
  },
  {
   "cell_type": "markdown",
   "id": "fd51ea40-0a09-45cc-b971-b322d4a2f6d4",
   "metadata": {
    "id": "170c66bd"
   },
   "source": [
    "As of right now, I am utterly wrong in my model somewhere, and I dont have time to fix it. That said, it seems that on increasing alpha, my model is getting worse."
   ]
  },
  {
   "cell_type": "markdown",
   "id": "faf60747",
   "metadata": {
    "id": "faf60747"
   },
   "source": [
    "**Best model stats**"
   ]
  },
  {
   "cell_type": "code",
   "execution_count": 36,
   "id": "4ec8f5a1",
   "metadata": {
    "id": "4ec8f5a1"
   },
   "outputs": [
    {
     "name": "stdout",
     "output_type": "stream",
     "text": [
      "Trained\n",
      "Train MSE: 213324306985.55264\n",
      "Val MSE: 231549505393.69913\n",
      "Test MSE: 190222564653.3331\n"
     ]
    }
   ],
   "source": [
    "min_alpha = alphas[np.argmin(val_mses)]\n",
    "\n",
    "linreg_a = LinearRegression(alpha=a)\n",
    "linreg_a.train(auto_mpg_X_train, auto_mpg_y_train)\n",
    "print('Trained')\n",
    "\n",
    "train_preds = linreg_a.predict(auto_mpg_X_train)\n",
    "train_mse = mse(train_preds, auto_mpg_y_train)\n",
    "print(\"Train MSE:\", train_mse)\n",
    "\n",
    "val_preds = linreg_a.predict(auto_mpg_X_val)\n",
    "val_mse = mse(val_preds, auto_mpg_y_val)\n",
    "print(\"Val MSE:\", val_mse)\n",
    "\n",
    "test_preds = linreg_a.predict(auto_mpg_X_test)\n",
    "test_mse = mse(test_preds, auto_mpg_y_test)\n",
    "print(\"Test MSE:\", test_mse)"
   ]
  },
  {
   "cell_type": "markdown",
   "id": "05d5e341",
   "metadata": {
    "id": "05d5e341"
   },
   "source": [
    "**Logistic Regression**\n",
    "\n",
    "**Gender Recognition by Voice and Speech Analysis**"
   ]
  },
  {
   "cell_type": "code",
   "execution_count": 37,
   "id": "f585b079",
   "metadata": {
    "id": "f585b079"
   },
   "outputs": [
    {
     "data": {
      "text/html": [
       "<div>\n",
       "<style scoped>\n",
       "    .dataframe tbody tr th:only-of-type {\n",
       "        vertical-align: middle;\n",
       "    }\n",
       "\n",
       "    .dataframe tbody tr th {\n",
       "        vertical-align: top;\n",
       "    }\n",
       "\n",
       "    .dataframe thead th {\n",
       "        text-align: right;\n",
       "    }\n",
       "</style>\n",
       "<table border=\"1\" class=\"dataframe\">\n",
       "  <thead>\n",
       "    <tr style=\"text-align: right;\">\n",
       "      <th></th>\n",
       "      <th>meanfreq</th>\n",
       "      <th>sd</th>\n",
       "      <th>median</th>\n",
       "      <th>Q25</th>\n",
       "      <th>Q75</th>\n",
       "      <th>IQR</th>\n",
       "      <th>skew</th>\n",
       "      <th>kurt</th>\n",
       "      <th>sp.ent</th>\n",
       "      <th>sfm</th>\n",
       "      <th>...</th>\n",
       "      <th>centroid</th>\n",
       "      <th>meanfun</th>\n",
       "      <th>minfun</th>\n",
       "      <th>maxfun</th>\n",
       "      <th>meandom</th>\n",
       "      <th>mindom</th>\n",
       "      <th>maxdom</th>\n",
       "      <th>dfrange</th>\n",
       "      <th>modindx</th>\n",
       "      <th>label</th>\n",
       "    </tr>\n",
       "  </thead>\n",
       "  <tbody>\n",
       "    <tr>\n",
       "      <th>0</th>\n",
       "      <td>0.059781</td>\n",
       "      <td>0.064241</td>\n",
       "      <td>0.032027</td>\n",
       "      <td>0.015071</td>\n",
       "      <td>0.090193</td>\n",
       "      <td>0.075122</td>\n",
       "      <td>12.863462</td>\n",
       "      <td>274.402906</td>\n",
       "      <td>0.893369</td>\n",
       "      <td>0.491918</td>\n",
       "      <td>...</td>\n",
       "      <td>0.059781</td>\n",
       "      <td>0.084279</td>\n",
       "      <td>0.015702</td>\n",
       "      <td>0.275862</td>\n",
       "      <td>0.007812</td>\n",
       "      <td>0.007812</td>\n",
       "      <td>0.007812</td>\n",
       "      <td>0.000000</td>\n",
       "      <td>0.000000</td>\n",
       "      <td>male</td>\n",
       "    </tr>\n",
       "    <tr>\n",
       "      <th>1</th>\n",
       "      <td>0.066009</td>\n",
       "      <td>0.067310</td>\n",
       "      <td>0.040229</td>\n",
       "      <td>0.019414</td>\n",
       "      <td>0.092666</td>\n",
       "      <td>0.073252</td>\n",
       "      <td>22.423285</td>\n",
       "      <td>634.613855</td>\n",
       "      <td>0.892193</td>\n",
       "      <td>0.513724</td>\n",
       "      <td>...</td>\n",
       "      <td>0.066009</td>\n",
       "      <td>0.107937</td>\n",
       "      <td>0.015826</td>\n",
       "      <td>0.250000</td>\n",
       "      <td>0.009014</td>\n",
       "      <td>0.007812</td>\n",
       "      <td>0.054688</td>\n",
       "      <td>0.046875</td>\n",
       "      <td>0.052632</td>\n",
       "      <td>male</td>\n",
       "    </tr>\n",
       "    <tr>\n",
       "      <th>2</th>\n",
       "      <td>0.077316</td>\n",
       "      <td>0.083829</td>\n",
       "      <td>0.036718</td>\n",
       "      <td>0.008701</td>\n",
       "      <td>0.131908</td>\n",
       "      <td>0.123207</td>\n",
       "      <td>30.757155</td>\n",
       "      <td>1024.927705</td>\n",
       "      <td>0.846389</td>\n",
       "      <td>0.478905</td>\n",
       "      <td>...</td>\n",
       "      <td>0.077316</td>\n",
       "      <td>0.098706</td>\n",
       "      <td>0.015656</td>\n",
       "      <td>0.271186</td>\n",
       "      <td>0.007990</td>\n",
       "      <td>0.007812</td>\n",
       "      <td>0.015625</td>\n",
       "      <td>0.007812</td>\n",
       "      <td>0.046512</td>\n",
       "      <td>male</td>\n",
       "    </tr>\n",
       "    <tr>\n",
       "      <th>3</th>\n",
       "      <td>0.151228</td>\n",
       "      <td>0.072111</td>\n",
       "      <td>0.158011</td>\n",
       "      <td>0.096582</td>\n",
       "      <td>0.207955</td>\n",
       "      <td>0.111374</td>\n",
       "      <td>1.232831</td>\n",
       "      <td>4.177296</td>\n",
       "      <td>0.963322</td>\n",
       "      <td>0.727232</td>\n",
       "      <td>...</td>\n",
       "      <td>0.151228</td>\n",
       "      <td>0.088965</td>\n",
       "      <td>0.017798</td>\n",
       "      <td>0.250000</td>\n",
       "      <td>0.201497</td>\n",
       "      <td>0.007812</td>\n",
       "      <td>0.562500</td>\n",
       "      <td>0.554688</td>\n",
       "      <td>0.247119</td>\n",
       "      <td>male</td>\n",
       "    </tr>\n",
       "    <tr>\n",
       "      <th>4</th>\n",
       "      <td>0.135120</td>\n",
       "      <td>0.079146</td>\n",
       "      <td>0.124656</td>\n",
       "      <td>0.078720</td>\n",
       "      <td>0.206045</td>\n",
       "      <td>0.127325</td>\n",
       "      <td>1.101174</td>\n",
       "      <td>4.333713</td>\n",
       "      <td>0.971955</td>\n",
       "      <td>0.783568</td>\n",
       "      <td>...</td>\n",
       "      <td>0.135120</td>\n",
       "      <td>0.106398</td>\n",
       "      <td>0.016931</td>\n",
       "      <td>0.266667</td>\n",
       "      <td>0.712812</td>\n",
       "      <td>0.007812</td>\n",
       "      <td>5.484375</td>\n",
       "      <td>5.476562</td>\n",
       "      <td>0.208274</td>\n",
       "      <td>male</td>\n",
       "    </tr>\n",
       "  </tbody>\n",
       "</table>\n",
       "<p>5 rows × 21 columns</p>\n",
       "</div>"
      ],
      "text/plain": [
       "   meanfreq        sd    median       Q25       Q75       IQR       skew  \\\n",
       "0  0.059781  0.064241  0.032027  0.015071  0.090193  0.075122  12.863462   \n",
       "1  0.066009  0.067310  0.040229  0.019414  0.092666  0.073252  22.423285   \n",
       "2  0.077316  0.083829  0.036718  0.008701  0.131908  0.123207  30.757155   \n",
       "3  0.151228  0.072111  0.158011  0.096582  0.207955  0.111374   1.232831   \n",
       "4  0.135120  0.079146  0.124656  0.078720  0.206045  0.127325   1.101174   \n",
       "\n",
       "          kurt    sp.ent       sfm  ...  centroid   meanfun    minfun  \\\n",
       "0   274.402906  0.893369  0.491918  ...  0.059781  0.084279  0.015702   \n",
       "1   634.613855  0.892193  0.513724  ...  0.066009  0.107937  0.015826   \n",
       "2  1024.927705  0.846389  0.478905  ...  0.077316  0.098706  0.015656   \n",
       "3     4.177296  0.963322  0.727232  ...  0.151228  0.088965  0.017798   \n",
       "4     4.333713  0.971955  0.783568  ...  0.135120  0.106398  0.016931   \n",
       "\n",
       "     maxfun   meandom    mindom    maxdom   dfrange   modindx  label  \n",
       "0  0.275862  0.007812  0.007812  0.007812  0.000000  0.000000   male  \n",
       "1  0.250000  0.009014  0.007812  0.054688  0.046875  0.052632   male  \n",
       "2  0.271186  0.007990  0.007812  0.015625  0.007812  0.046512   male  \n",
       "3  0.250000  0.201497  0.007812  0.562500  0.554688  0.247119   male  \n",
       "4  0.266667  0.712812  0.007812  5.484375  5.476562  0.208274   male  \n",
       "\n",
       "[5 rows x 21 columns]"
      ]
     },
     "execution_count": 37,
     "metadata": {},
     "output_type": "execute_result"
    }
   ],
   "source": [
    "voice_df = pd.read_csv(\"voice-classification.csv\")\n",
    "voice_df.head()"
   ]
  },
  {
   "cell_type": "markdown",
   "id": "f0b513a2",
   "metadata": {
    "id": "f0b513a2"
   },
   "source": [
    "**Data - Checking Rows & Columns**"
   ]
  },
  {
   "cell_type": "code",
   "execution_count": 38,
   "id": "c7505761",
   "metadata": {
    "id": "c7505761"
   },
   "outputs": [
    {
     "name": "stdout",
     "output_type": "stream",
     "text": [
      "(3168, 21)\n"
     ]
    }
   ],
   "source": [
    "#Number of Rows & Columns\n",
    "print(voice_df.shape) "
   ]
  },
  {
   "cell_type": "markdown",
   "id": "305b947d",
   "metadata": {
    "id": "305b947d"
   },
   "source": [
    "**Label makeup**"
   ]
  },
  {
   "cell_type": "code",
   "execution_count": 39,
   "id": "5fab9321",
   "metadata": {
    "id": "5fab9321"
   },
   "outputs": [
    {
     "name": "stdout",
     "output_type": "stream",
     "text": [
      "Male Prob:\n",
      "0.5\n",
      "Female Prob:\n",
      "0.5\n"
     ]
    }
   ],
   "source": [
    "print(\"Male Prob:\")\n",
    "print(len(voice_df[voice_df.label == 'male']) / len(voice_df))\n",
    "print(\"Female Prob:\")\n",
    "print(len(voice_df[voice_df.label == 'female']) / len(voice_df))"
   ]
  },
  {
   "cell_type": "markdown",
   "id": "6b8ae809",
   "metadata": {
    "id": "6b8ae809"
   },
   "source": [
    "**Boxplots of Label v Features**"
   ]
  },
  {
   "cell_type": "code",
   "execution_count": 40,
   "id": "da9b532f",
   "metadata": {
    "id": "da9b532f"
   },
   "outputs": [
    {
     "name": "stderr",
     "output_type": "stream",
     "text": [
      "D:\\langs\\anaconda_dist\\lib\\site-packages\\pandas\\plotting\\_matplotlib\\boxplot.py:385: UserWarning: When passing multiple axes, sharex and sharey are ignored. These settings must be specified when creating axes\n",
      "  ax = boxplot(\n"
     ]
    },
    {
     "data": {
      "image/png": "[encoded data removed]",
      "text/plain": [
       "<Figure size 1080x1080 with 20 Axes>"
      ]
     },
     "metadata": {
      "needs_background": "light"
     },
     "output_type": "display_data"
    }
   ],
   "source": [
    "fig, axs = plt.subplots(5, 4, figsize=(15,15), sharey=False)\n",
    "boxplot = voice_df.boxplot(by='label', ax=axs)"
   ]
  },
  {
   "cell_type": "markdown",
   "id": "c0cdbd8c",
   "metadata": {
    "id": "c0cdbd8c"
   },
   "source": [
    "**Correlation matrix**"
   ]
  },
  {
   "cell_type": "code",
   "execution_count": 41,
   "id": "3921a442-566f-414d-93cc-d384889cb97f",
   "metadata": {
    "id": "0fdcb929"
   },
   "outputs": [
    {
     "data": {
      "text/html": [
       "<div>\n",
       "<style scoped>\n",
       "    .dataframe tbody tr th:only-of-type {\n",
       "        vertical-align: middle;\n",
       "    }\n",
       "\n",
       "    .dataframe tbody tr th {\n",
       "        vertical-align: top;\n",
       "    }\n",
       "\n",
       "    .dataframe thead th {\n",
       "        text-align: right;\n",
       "    }\n",
       "</style>\n",
       "<table border=\"1\" class=\"dataframe\">\n",
       "  <thead>\n",
       "    <tr style=\"text-align: right;\">\n",
       "      <th></th>\n",
       "      <th>meanfreq</th>\n",
       "      <th>sd</th>\n",
       "      <th>median</th>\n",
       "      <th>Q25</th>\n",
       "      <th>Q75</th>\n",
       "      <th>IQR</th>\n",
       "      <th>skew</th>\n",
       "      <th>kurt</th>\n",
       "      <th>sp.ent</th>\n",
       "      <th>sfm</th>\n",
       "      <th>mode</th>\n",
       "      <th>centroid</th>\n",
       "      <th>meanfun</th>\n",
       "      <th>minfun</th>\n",
       "      <th>maxfun</th>\n",
       "      <th>meandom</th>\n",
       "      <th>mindom</th>\n",
       "      <th>maxdom</th>\n",
       "      <th>dfrange</th>\n",
       "      <th>modindx</th>\n",
       "    </tr>\n",
       "  </thead>\n",
       "  <tbody>\n",
       "    <tr>\n",
       "      <th>meanfreq</th>\n",
       "      <td>1.000000</td>\n",
       "      <td>-0.739039</td>\n",
       "      <td>0.925445</td>\n",
       "      <td>0.911416</td>\n",
       "      <td>0.740997</td>\n",
       "      <td>-0.627605</td>\n",
       "      <td>-0.322327</td>\n",
       "      <td>-0.316036</td>\n",
       "      <td>-0.601203</td>\n",
       "      <td>-0.784332</td>\n",
       "      <td>0.687715</td>\n",
       "      <td>1.000000</td>\n",
       "      <td>0.460844</td>\n",
       "      <td>0.383937</td>\n",
       "      <td>0.274004</td>\n",
       "      <td>0.536666</td>\n",
       "      <td>0.229261</td>\n",
       "      <td>0.519528</td>\n",
       "      <td>0.515570</td>\n",
       "      <td>-0.216979</td>\n",
       "    </tr>\n",
       "    <tr>\n",
       "      <th>sd</th>\n",
       "      <td>-0.739039</td>\n",
       "      <td>1.000000</td>\n",
       "      <td>-0.562603</td>\n",
       "      <td>-0.846931</td>\n",
       "      <td>-0.161076</td>\n",
       "      <td>0.874660</td>\n",
       "      <td>0.314597</td>\n",
       "      <td>0.346241</td>\n",
       "      <td>0.716620</td>\n",
       "      <td>0.838086</td>\n",
       "      <td>-0.529150</td>\n",
       "      <td>-0.739039</td>\n",
       "      <td>-0.466281</td>\n",
       "      <td>-0.345609</td>\n",
       "      <td>-0.129662</td>\n",
       "      <td>-0.482726</td>\n",
       "      <td>-0.357667</td>\n",
       "      <td>-0.482278</td>\n",
       "      <td>-0.475999</td>\n",
       "      <td>0.122660</td>\n",
       "    </tr>\n",
       "    <tr>\n",
       "      <th>median</th>\n",
       "      <td>0.925445</td>\n",
       "      <td>-0.562603</td>\n",
       "      <td>1.000000</td>\n",
       "      <td>0.774922</td>\n",
       "      <td>0.731849</td>\n",
       "      <td>-0.477352</td>\n",
       "      <td>-0.257407</td>\n",
       "      <td>-0.243382</td>\n",
       "      <td>-0.502005</td>\n",
       "      <td>-0.661690</td>\n",
       "      <td>0.677433</td>\n",
       "      <td>0.925445</td>\n",
       "      <td>0.414909</td>\n",
       "      <td>0.337602</td>\n",
       "      <td>0.251328</td>\n",
       "      <td>0.455943</td>\n",
       "      <td>0.191169</td>\n",
       "      <td>0.438919</td>\n",
       "      <td>0.435621</td>\n",
       "      <td>-0.213298</td>\n",
       "    </tr>\n",
       "    <tr>\n",
       "      <th>Q25</th>\n",
       "      <td>0.911416</td>\n",
       "      <td>-0.846931</td>\n",
       "      <td>0.774922</td>\n",
       "      <td>1.000000</td>\n",
       "      <td>0.477140</td>\n",
       "      <td>-0.874189</td>\n",
       "      <td>-0.319475</td>\n",
       "      <td>-0.350182</td>\n",
       "      <td>-0.648126</td>\n",
       "      <td>-0.766875</td>\n",
       "      <td>0.591277</td>\n",
       "      <td>0.911416</td>\n",
       "      <td>0.545035</td>\n",
       "      <td>0.320994</td>\n",
       "      <td>0.199841</td>\n",
       "      <td>0.467403</td>\n",
       "      <td>0.302255</td>\n",
       "      <td>0.459683</td>\n",
       "      <td>0.454394</td>\n",
       "      <td>-0.141377</td>\n",
       "    </tr>\n",
       "    <tr>\n",
       "      <th>Q75</th>\n",
       "      <td>0.740997</td>\n",
       "      <td>-0.161076</td>\n",
       "      <td>0.731849</td>\n",
       "      <td>0.477140</td>\n",
       "      <td>1.000000</td>\n",
       "      <td>0.009636</td>\n",
       "      <td>-0.206339</td>\n",
       "      <td>-0.148881</td>\n",
       "      <td>-0.174905</td>\n",
       "      <td>-0.378198</td>\n",
       "      <td>0.486857</td>\n",
       "      <td>0.740997</td>\n",
       "      <td>0.155091</td>\n",
       "      <td>0.258002</td>\n",
       "      <td>0.285584</td>\n",
       "      <td>0.359181</td>\n",
       "      <td>-0.023750</td>\n",
       "      <td>0.335114</td>\n",
       "      <td>0.335648</td>\n",
       "      <td>-0.216475</td>\n",
       "    </tr>\n",
       "    <tr>\n",
       "      <th>IQR</th>\n",
       "      <td>-0.627605</td>\n",
       "      <td>0.874660</td>\n",
       "      <td>-0.477352</td>\n",
       "      <td>-0.874189</td>\n",
       "      <td>0.009636</td>\n",
       "      <td>1.000000</td>\n",
       "      <td>0.249497</td>\n",
       "      <td>0.316185</td>\n",
       "      <td>0.640813</td>\n",
       "      <td>0.663601</td>\n",
       "      <td>-0.403764</td>\n",
       "      <td>-0.627605</td>\n",
       "      <td>-0.534462</td>\n",
       "      <td>-0.222680</td>\n",
       "      <td>-0.069588</td>\n",
       "      <td>-0.333362</td>\n",
       "      <td>-0.357037</td>\n",
       "      <td>-0.337877</td>\n",
       "      <td>-0.331563</td>\n",
       "      <td>0.041252</td>\n",
       "    </tr>\n",
       "    <tr>\n",
       "      <th>skew</th>\n",
       "      <td>-0.322327</td>\n",
       "      <td>0.314597</td>\n",
       "      <td>-0.257407</td>\n",
       "      <td>-0.319475</td>\n",
       "      <td>-0.206339</td>\n",
       "      <td>0.249497</td>\n",
       "      <td>1.000000</td>\n",
       "      <td>0.977020</td>\n",
       "      <td>-0.195459</td>\n",
       "      <td>0.079694</td>\n",
       "      <td>-0.434859</td>\n",
       "      <td>-0.322327</td>\n",
       "      <td>-0.167668</td>\n",
       "      <td>-0.216954</td>\n",
       "      <td>-0.080861</td>\n",
       "      <td>-0.336848</td>\n",
       "      <td>-0.061608</td>\n",
       "      <td>-0.305651</td>\n",
       "      <td>-0.304640</td>\n",
       "      <td>-0.169325</td>\n",
       "    </tr>\n",
       "    <tr>\n",
       "      <th>kurt</th>\n",
       "      <td>-0.316036</td>\n",
       "      <td>0.346241</td>\n",
       "      <td>-0.243382</td>\n",
       "      <td>-0.350182</td>\n",
       "      <td>-0.148881</td>\n",
       "      <td>0.316185</td>\n",
       "      <td>0.977020</td>\n",
       "      <td>1.000000</td>\n",
       "      <td>-0.127644</td>\n",
       "      <td>0.109884</td>\n",
       "      <td>-0.406722</td>\n",
       "      <td>-0.316036</td>\n",
       "      <td>-0.194560</td>\n",
       "      <td>-0.203201</td>\n",
       "      <td>-0.045667</td>\n",
       "      <td>-0.303234</td>\n",
       "      <td>-0.103313</td>\n",
       "      <td>-0.274500</td>\n",
       "      <td>-0.272729</td>\n",
       "      <td>-0.205539</td>\n",
       "    </tr>\n",
       "    <tr>\n",
       "      <th>sp.ent</th>\n",
       "      <td>-0.601203</td>\n",
       "      <td>0.716620</td>\n",
       "      <td>-0.502005</td>\n",
       "      <td>-0.648126</td>\n",
       "      <td>-0.174905</td>\n",
       "      <td>0.640813</td>\n",
       "      <td>-0.195459</td>\n",
       "      <td>-0.127644</td>\n",
       "      <td>1.000000</td>\n",
       "      <td>0.866411</td>\n",
       "      <td>-0.325298</td>\n",
       "      <td>-0.601203</td>\n",
       "      <td>-0.513194</td>\n",
       "      <td>-0.305826</td>\n",
       "      <td>-0.120738</td>\n",
       "      <td>-0.293562</td>\n",
       "      <td>-0.294869</td>\n",
       "      <td>-0.324253</td>\n",
       "      <td>-0.319054</td>\n",
       "      <td>0.198074</td>\n",
       "    </tr>\n",
       "    <tr>\n",
       "      <th>sfm</th>\n",
       "      <td>-0.784332</td>\n",
       "      <td>0.838086</td>\n",
       "      <td>-0.661690</td>\n",
       "      <td>-0.766875</td>\n",
       "      <td>-0.378198</td>\n",
       "      <td>0.663601</td>\n",
       "      <td>0.079694</td>\n",
       "      <td>0.109884</td>\n",
       "      <td>0.866411</td>\n",
       "      <td>1.000000</td>\n",
       "      <td>-0.485913</td>\n",
       "      <td>-0.784332</td>\n",
       "      <td>-0.421066</td>\n",
       "      <td>-0.362100</td>\n",
       "      <td>-0.192369</td>\n",
       "      <td>-0.428442</td>\n",
       "      <td>-0.289593</td>\n",
       "      <td>-0.436649</td>\n",
       "      <td>-0.431580</td>\n",
       "      <td>0.211477</td>\n",
       "    </tr>\n",
       "    <tr>\n",
       "      <th>mode</th>\n",
       "      <td>0.687715</td>\n",
       "      <td>-0.529150</td>\n",
       "      <td>0.677433</td>\n",
       "      <td>0.591277</td>\n",
       "      <td>0.486857</td>\n",
       "      <td>-0.403764</td>\n",
       "      <td>-0.434859</td>\n",
       "      <td>-0.406722</td>\n",
       "      <td>-0.325298</td>\n",
       "      <td>-0.485913</td>\n",
       "      <td>1.000000</td>\n",
       "      <td>0.687715</td>\n",
       "      <td>0.324771</td>\n",
       "      <td>0.385467</td>\n",
       "      <td>0.172329</td>\n",
       "      <td>0.491479</td>\n",
       "      <td>0.198150</td>\n",
       "      <td>0.477187</td>\n",
       "      <td>0.473775</td>\n",
       "      <td>-0.182344</td>\n",
       "    </tr>\n",
       "    <tr>\n",
       "      <th>centroid</th>\n",
       "      <td>1.000000</td>\n",
       "      <td>-0.739039</td>\n",
       "      <td>0.925445</td>\n",
       "      <td>0.911416</td>\n",
       "      <td>0.740997</td>\n",
       "      <td>-0.627605</td>\n",
       "      <td>-0.322327</td>\n",
       "      <td>-0.316036</td>\n",
       "      <td>-0.601203</td>\n",
       "      <td>-0.784332</td>\n",
       "      <td>0.687715</td>\n",
       "      <td>1.000000</td>\n",
       "      <td>0.460844</td>\n",
       "      <td>0.383937</td>\n",
       "      <td>0.274004</td>\n",
       "      <td>0.536666</td>\n",
       "      <td>0.229261</td>\n",
       "      <td>0.519528</td>\n",
       "      <td>0.515570</td>\n",
       "      <td>-0.216979</td>\n",
       "    </tr>\n",
       "    <tr>\n",
       "      <th>meanfun</th>\n",
       "      <td>0.460844</td>\n",
       "      <td>-0.466281</td>\n",
       "      <td>0.414909</td>\n",
       "      <td>0.545035</td>\n",
       "      <td>0.155091</td>\n",
       "      <td>-0.534462</td>\n",
       "      <td>-0.167668</td>\n",
       "      <td>-0.194560</td>\n",
       "      <td>-0.513194</td>\n",
       "      <td>-0.421066</td>\n",
       "      <td>0.324771</td>\n",
       "      <td>0.460844</td>\n",
       "      <td>1.000000</td>\n",
       "      <td>0.339387</td>\n",
       "      <td>0.311950</td>\n",
       "      <td>0.270840</td>\n",
       "      <td>0.162163</td>\n",
       "      <td>0.277982</td>\n",
       "      <td>0.275154</td>\n",
       "      <td>-0.054858</td>\n",
       "    </tr>\n",
       "    <tr>\n",
       "      <th>minfun</th>\n",
       "      <td>0.383937</td>\n",
       "      <td>-0.345609</td>\n",
       "      <td>0.337602</td>\n",
       "      <td>0.320994</td>\n",
       "      <td>0.258002</td>\n",
       "      <td>-0.222680</td>\n",
       "      <td>-0.216954</td>\n",
       "      <td>-0.203201</td>\n",
       "      <td>-0.305826</td>\n",
       "      <td>-0.362100</td>\n",
       "      <td>0.385467</td>\n",
       "      <td>0.383937</td>\n",
       "      <td>0.339387</td>\n",
       "      <td>1.000000</td>\n",
       "      <td>0.213987</td>\n",
       "      <td>0.375979</td>\n",
       "      <td>0.082015</td>\n",
       "      <td>0.317860</td>\n",
       "      <td>0.316486</td>\n",
       "      <td>0.002042</td>\n",
       "    </tr>\n",
       "    <tr>\n",
       "      <th>maxfun</th>\n",
       "      <td>0.274004</td>\n",
       "      <td>-0.129662</td>\n",
       "      <td>0.251328</td>\n",
       "      <td>0.199841</td>\n",
       "      <td>0.285584</td>\n",
       "      <td>-0.069588</td>\n",
       "      <td>-0.080861</td>\n",
       "      <td>-0.045667</td>\n",
       "      <td>-0.120738</td>\n",
       "      <td>-0.192369</td>\n",
       "      <td>0.172329</td>\n",
       "      <td>0.274004</td>\n",
       "      <td>0.311950</td>\n",
       "      <td>0.213987</td>\n",
       "      <td>1.000000</td>\n",
       "      <td>0.337553</td>\n",
       "      <td>-0.243426</td>\n",
       "      <td>0.355390</td>\n",
       "      <td>0.359880</td>\n",
       "      <td>-0.363029</td>\n",
       "    </tr>\n",
       "    <tr>\n",
       "      <th>meandom</th>\n",
       "      <td>0.536666</td>\n",
       "      <td>-0.482726</td>\n",
       "      <td>0.455943</td>\n",
       "      <td>0.467403</td>\n",
       "      <td>0.359181</td>\n",
       "      <td>-0.333362</td>\n",
       "      <td>-0.336848</td>\n",
       "      <td>-0.303234</td>\n",
       "      <td>-0.293562</td>\n",
       "      <td>-0.428442</td>\n",
       "      <td>0.491479</td>\n",
       "      <td>0.536666</td>\n",
       "      <td>0.270840</td>\n",
       "      <td>0.375979</td>\n",
       "      <td>0.337553</td>\n",
       "      <td>1.000000</td>\n",
       "      <td>0.099656</td>\n",
       "      <td>0.812838</td>\n",
       "      <td>0.811304</td>\n",
       "      <td>-0.180954</td>\n",
       "    </tr>\n",
       "    <tr>\n",
       "      <th>mindom</th>\n",
       "      <td>0.229261</td>\n",
       "      <td>-0.357667</td>\n",
       "      <td>0.191169</td>\n",
       "      <td>0.302255</td>\n",
       "      <td>-0.023750</td>\n",
       "      <td>-0.357037</td>\n",
       "      <td>-0.061608</td>\n",
       "      <td>-0.103313</td>\n",
       "      <td>-0.294869</td>\n",
       "      <td>-0.289593</td>\n",
       "      <td>0.198150</td>\n",
       "      <td>0.229261</td>\n",
       "      <td>0.162163</td>\n",
       "      <td>0.082015</td>\n",
       "      <td>-0.243426</td>\n",
       "      <td>0.099656</td>\n",
       "      <td>1.000000</td>\n",
       "      <td>0.026640</td>\n",
       "      <td>0.008666</td>\n",
       "      <td>0.200212</td>\n",
       "    </tr>\n",
       "    <tr>\n",
       "      <th>maxdom</th>\n",
       "      <td>0.519528</td>\n",
       "      <td>-0.482278</td>\n",
       "      <td>0.438919</td>\n",
       "      <td>0.459683</td>\n",
       "      <td>0.335114</td>\n",
       "      <td>-0.337877</td>\n",
       "      <td>-0.305651</td>\n",
       "      <td>-0.274500</td>\n",
       "      <td>-0.324253</td>\n",
       "      <td>-0.436649</td>\n",
       "      <td>0.477187</td>\n",
       "      <td>0.519528</td>\n",
       "      <td>0.277982</td>\n",
       "      <td>0.317860</td>\n",
       "      <td>0.355390</td>\n",
       "      <td>0.812838</td>\n",
       "      <td>0.026640</td>\n",
       "      <td>1.000000</td>\n",
       "      <td>0.999838</td>\n",
       "      <td>-0.425531</td>\n",
       "    </tr>\n",
       "    <tr>\n",
       "      <th>dfrange</th>\n",
       "      <td>0.515570</td>\n",
       "      <td>-0.475999</td>\n",
       "      <td>0.435621</td>\n",
       "      <td>0.454394</td>\n",
       "      <td>0.335648</td>\n",
       "      <td>-0.331563</td>\n",
       "      <td>-0.304640</td>\n",
       "      <td>-0.272729</td>\n",
       "      <td>-0.319054</td>\n",
       "      <td>-0.431580</td>\n",
       "      <td>0.473775</td>\n",
       "      <td>0.515570</td>\n",
       "      <td>0.275154</td>\n",
       "      <td>0.316486</td>\n",
       "      <td>0.359880</td>\n",
       "      <td>0.811304</td>\n",
       "      <td>0.008666</td>\n",
       "      <td>0.999838</td>\n",
       "      <td>1.000000</td>\n",
       "      <td>-0.429266</td>\n",
       "    </tr>\n",
       "    <tr>\n",
       "      <th>modindx</th>\n",
       "      <td>-0.216979</td>\n",
       "      <td>0.122660</td>\n",
       "      <td>-0.213298</td>\n",
       "      <td>-0.141377</td>\n",
       "      <td>-0.216475</td>\n",
       "      <td>0.041252</td>\n",
       "      <td>-0.169325</td>\n",
       "      <td>-0.205539</td>\n",
       "      <td>0.198074</td>\n",
       "      <td>0.211477</td>\n",
       "      <td>-0.182344</td>\n",
       "      <td>-0.216979</td>\n",
       "      <td>-0.054858</td>\n",
       "      <td>0.002042</td>\n",
       "      <td>-0.363029</td>\n",
       "      <td>-0.180954</td>\n",
       "      <td>0.200212</td>\n",
       "      <td>-0.425531</td>\n",
       "      <td>-0.429266</td>\n",
       "      <td>1.000000</td>\n",
       "    </tr>\n",
       "  </tbody>\n",
       "</table>\n",
       "</div>"
      ],
      "text/plain": [
       "          meanfreq        sd    median       Q25       Q75       IQR  \\\n",
       "meanfreq  1.000000 -0.739039  0.925445  0.911416  0.740997 -0.627605   \n",
       "sd       -0.739039  1.000000 -0.562603 -0.846931 -0.161076  0.874660   \n",
       "median    0.925445 -0.562603  1.000000  0.774922  0.731849 -0.477352   \n",
       "Q25       0.911416 -0.846931  0.774922  1.000000  0.477140 -0.874189   \n",
       "Q75       0.740997 -0.161076  0.731849  0.477140  1.000000  0.009636   \n",
       "IQR      -0.627605  0.874660 -0.477352 -0.874189  0.009636  1.000000   \n",
       "skew     -0.322327  0.314597 -0.257407 -0.319475 -0.206339  0.249497   \n",
       "kurt     -0.316036  0.346241 -0.243382 -0.350182 -0.148881  0.316185   \n",
       "sp.ent   -0.601203  0.716620 -0.502005 -0.648126 -0.174905  0.640813   \n",
       "sfm      -0.784332  0.838086 -0.661690 -0.766875 -0.378198  0.663601   \n",
       "mode      0.687715 -0.529150  0.677433  0.591277  0.486857 -0.403764   \n",
       "centroid  1.000000 -0.739039  0.925445  0.911416  0.740997 -0.627605   \n",
       "meanfun   0.460844 -0.466281  0.414909  0.545035  0.155091 -0.534462   \n",
       "minfun    0.383937 -0.345609  0.337602  0.320994  0.258002 -0.222680   \n",
       "maxfun    0.274004 -0.129662  0.251328  0.199841  0.285584 -0.069588   \n",
       "meandom   0.536666 -0.482726  0.455943  0.467403  0.359181 -0.333362   \n",
       "mindom    0.229261 -0.357667  0.191169  0.302255 -0.023750 -0.357037   \n",
       "maxdom    0.519528 -0.482278  0.438919  0.459683  0.335114 -0.337877   \n",
       "dfrange   0.515570 -0.475999  0.435621  0.454394  0.335648 -0.331563   \n",
       "modindx  -0.216979  0.122660 -0.213298 -0.141377 -0.216475  0.041252   \n",
       "\n",
       "              skew      kurt    sp.ent       sfm      mode  centroid  \\\n",
       "meanfreq -0.322327 -0.316036 -0.601203 -0.784332  0.687715  1.000000   \n",
       "sd        0.314597  0.346241  0.716620  0.838086 -0.529150 -0.739039   \n",
       "median   -0.257407 -0.243382 -0.502005 -0.661690  0.677433  0.925445   \n",
       "Q25      -0.319475 -0.350182 -0.648126 -0.766875  0.591277  0.911416   \n",
       "Q75      -0.206339 -0.148881 -0.174905 -0.378198  0.486857  0.740997   \n",
       "IQR       0.249497  0.316185  0.640813  0.663601 -0.403764 -0.627605   \n",
       "skew      1.000000  0.977020 -0.195459  0.079694 -0.434859 -0.322327   \n",
       "kurt      0.977020  1.000000 -0.127644  0.109884 -0.406722 -0.316036   \n",
       "sp.ent   -0.195459 -0.127644  1.000000  0.866411 -0.325298 -0.601203   \n",
       "sfm       0.079694  0.109884  0.866411  1.000000 -0.485913 -0.784332   \n",
       "mode     -0.434859 -0.406722 -0.325298 -0.485913  1.000000  0.687715   \n",
       "centroid -0.322327 -0.316036 -0.601203 -0.784332  0.687715  1.000000   \n",
       "meanfun  -0.167668 -0.194560 -0.513194 -0.421066  0.324771  0.460844   \n",
       "minfun   -0.216954 -0.203201 -0.305826 -0.362100  0.385467  0.383937   \n",
       "maxfun   -0.080861 -0.045667 -0.120738 -0.192369  0.172329  0.274004   \n",
       "meandom  -0.336848 -0.303234 -0.293562 -0.428442  0.491479  0.536666   \n",
       "mindom   -0.061608 -0.103313 -0.294869 -0.289593  0.198150  0.229261   \n",
       "maxdom   -0.305651 -0.274500 -0.324253 -0.436649  0.477187  0.519528   \n",
       "dfrange  -0.304640 -0.272729 -0.319054 -0.431580  0.473775  0.515570   \n",
       "modindx  -0.169325 -0.205539  0.198074  0.211477 -0.182344 -0.216979   \n",
       "\n",
       "           meanfun    minfun    maxfun   meandom    mindom    maxdom  \\\n",
       "meanfreq  0.460844  0.383937  0.274004  0.536666  0.229261  0.519528   \n",
       "sd       -0.466281 -0.345609 -0.129662 -0.482726 -0.357667 -0.482278   \n",
       "median    0.414909  0.337602  0.251328  0.455943  0.191169  0.438919   \n",
       "Q25       0.545035  0.320994  0.199841  0.467403  0.302255  0.459683   \n",
       "Q75       0.155091  0.258002  0.285584  0.359181 -0.023750  0.335114   \n",
       "IQR      -0.534462 -0.222680 -0.069588 -0.333362 -0.357037 -0.337877   \n",
       "skew     -0.167668 -0.216954 -0.080861 -0.336848 -0.061608 -0.305651   \n",
       "kurt     -0.194560 -0.203201 -0.045667 -0.303234 -0.103313 -0.274500   \n",
       "sp.ent   -0.513194 -0.305826 -0.120738 -0.293562 -0.294869 -0.324253   \n",
       "sfm      -0.421066 -0.362100 -0.192369 -0.428442 -0.289593 -0.436649   \n",
       "mode      0.324771  0.385467  0.172329  0.491479  0.198150  0.477187   \n",
       "centroid  0.460844  0.383937  0.274004  0.536666  0.229261  0.519528   \n",
       "meanfun   1.000000  0.339387  0.311950  0.270840  0.162163  0.277982   \n",
       "minfun    0.339387  1.000000  0.213987  0.375979  0.082015  0.317860   \n",
       "maxfun    0.311950  0.213987  1.000000  0.337553 -0.243426  0.355390   \n",
       "meandom   0.270840  0.375979  0.337553  1.000000  0.099656  0.812838   \n",
       "mindom    0.162163  0.082015 -0.243426  0.099656  1.000000  0.026640   \n",
       "maxdom    0.277982  0.317860  0.355390  0.812838  0.026640  1.000000   \n",
       "dfrange   0.275154  0.316486  0.359880  0.811304  0.008666  0.999838   \n",
       "modindx  -0.054858  0.002042 -0.363029 -0.180954  0.200212 -0.425531   \n",
       "\n",
       "           dfrange   modindx  \n",
       "meanfreq  0.515570 -0.216979  \n",
       "sd       -0.475999  0.122660  \n",
       "median    0.435621 -0.213298  \n",
       "Q25       0.454394 -0.141377  \n",
       "Q75       0.335648 -0.216475  \n",
       "IQR      -0.331563  0.041252  \n",
       "skew     -0.304640 -0.169325  \n",
       "kurt     -0.272729 -0.205539  \n",
       "sp.ent   -0.319054  0.198074  \n",
       "sfm      -0.431580  0.211477  \n",
       "mode      0.473775 -0.182344  \n",
       "centroid  0.515570 -0.216979  \n",
       "meanfun   0.275154 -0.054858  \n",
       "minfun    0.316486  0.002042  \n",
       "maxfun    0.359880 -0.363029  \n",
       "meandom   0.811304 -0.180954  \n",
       "mindom    0.008666  0.200212  \n",
       "maxdom    0.999838 -0.425531  \n",
       "dfrange   1.000000 -0.429266  \n",
       "modindx  -0.429266  1.000000  "
      ]
     },
     "execution_count": 41,
     "metadata": {},
     "output_type": "execute_result"
    }
   ],
   "source": [
    "voice_df.corr()"
   ]
  },
  {
   "cell_type": "code",
   "execution_count": 42,
   "id": "5de26c75-b886-4f3f-8efb-40f0326b1bb7",
   "metadata": {
    "id": "0fdcb929"
   },
   "outputs": [],
   "source": [
    "drop_cols = ['meanfreq', 'centroid', 'median', 'Q25', 'skew', 'kurt', 'maxdom', 'dfrange']\n",
    "voice_df1 = voice_df.drop(labels=drop_cols, axis=1)"
   ]
  },
  {
   "cell_type": "markdown",
   "id": "4d1abd2b-32f4-461c-ab82-a46c32f7a8d5",
   "metadata": {
    "id": "0fdcb929"
   },
   "source": [
    "Multicollinearity exists prevalently ^^^^"
   ]
  },
  {
   "cell_type": "markdown",
   "id": "6e1eb8c4",
   "metadata": {
    "id": "6e1eb8c4"
   },
   "source": [
    "**Separating Features & Y variable from the processed dataset**"
   ]
  },
  {
   "cell_type": "code",
   "execution_count": 43,
   "id": "0697d57b",
   "metadata": {
    "id": "0697d57b"
   },
   "outputs": [
    {
     "name": "stdout",
     "output_type": "stream",
     "text": [
      "Index(['sd', 'Q75', 'IQR', 'sp.ent', 'sfm', 'mode', 'meanfun', 'minfun',\n",
      "       'maxfun', 'meandom', 'mindom', 'modindx'],\n",
      "      dtype='object')\n"
     ]
    }
   ],
   "source": [
    "# Split data into features and labels\n",
    "voice_X = voice_df1.drop(columns=['label']) #replace \"voice_df1\" with your dataframe from 2.3 to make sure the code runs\n",
    "voice_y = voice_df1['label']\n",
    "print(voice_X.columns)"
   ]
  },
  {
   "cell_type": "markdown",
   "id": "42edec62",
   "metadata": {
    "id": "42edec62"
   },
   "source": [
    "**Preprocessing**\n",
    "\n",
    "1) Use OrdinalEncoding to encode the label in the dataset (male & female)\n",
    "\n",
    "2) Convert the label from a Pandas series to a Numpy (m x 1) vector for implementation.\n",
    "\n",
    "3) Split the dataset into training (60%), validation (20%), and test (20%) sets.\n",
    "\n",
    "4) Standardize the columns in the feature matrices. To avoid information leakage, learn the standardization parameters from training, and then apply training, validation and test dataset.\n",
    "\n",
    "5) Add a bias column"
   ]
  },
  {
   "cell_type": "code",
   "execution_count": 44,
   "id": "d622a5fe-3864-4224-ac89-bfc6e49924dd",
   "metadata": {
    "id": "a99b06f8"
   },
   "outputs": [
    {
     "data": {
      "text/plain": [
       "array([[1],\n",
       "       [1],\n",
       "       [1],\n",
       "       ...,\n",
       "       [0],\n",
       "       [0],\n",
       "       [0]], dtype=int64)"
      ]
     },
     "execution_count": 44,
     "metadata": {},
     "output_type": "execute_result"
    }
   ],
   "source": [
    "# ordinal encoding\n",
    "voice_y = np.array([voice_y.apply(lambda x: 1 if x=='male' else 0).to_numpy()]).T\n",
    "voice_y"
   ]
  },
  {
   "cell_type": "code",
   "execution_count": 45,
   "id": "d9d681be-063d-4b4b-9350-9147114d155d",
   "metadata": {
    "id": "a99b06f8"
   },
   "outputs": [],
   "source": [
    "# train val test split\n",
    "voice_X_train, voice_X_40, voice_y_train, voice_y_40 = train_test_split(voice_X, voice_y,\n",
    "                                                                random_state=23, train_size=0.6)\n",
    "voice_X_val, voice_X_test, voice_y_val, voice_y_test = train_test_split(voice_X_40, voice_y_40,\n",
    "                                                                random_state=23, train_size=0.6)"
   ]
  },
  {
   "cell_type": "code",
   "execution_count": 46,
   "id": "abf2d292-2e6d-408a-b634-962af314eb8e",
   "metadata": {
    "id": "a99b06f8"
   },
   "outputs": [],
   "source": [
    "# standardize and add ones\n",
    "for feature in list(voice_X_train.columns):\n",
    "    # find column features\n",
    "    train_mean = voice_X_train[feature].mean()\n",
    "    train_std = voice_X_train[feature].std()\n",
    "    # alter columns\n",
    "    voice_X_train[feature] = voice_X_train[feature].apply(lambda x: (x - train_mean) / train_std)\n",
    "    voice_X_val[feature] = voice_X_val[feature].apply(lambda x: (x - train_mean) / train_std)\n",
    "    voice_X_test[feature] = voice_X_test[feature].apply(lambda x: (x - train_mean) / train_std)\n",
    "\n",
    "voice_X_train['bias_feature'] = 1\n",
    "voice_X_val['bias_feature'] = 1\n",
    "voice_X_test['bias_feature'] = 1"
   ]
  },
  {
   "cell_type": "markdown",
   "id": "ff63db53",
   "metadata": {
    "id": "ff63db53"
   },
   "source": [
    "**2.5 Implement Logistic Regression**\n",
    "\n",
    "We will now implement logistic regression with L2 regularization. Given an (m x n) feature matrix $X$, an (m x 1) label vector $y$, and an (n x 1) weight vector $w$, the hypothesis function for logistic regression is:\n",
    "\n",
    "$$\n",
    "y = \\sigma(X w)\n",
    "$$\n",
    "\n",
    "where $\\sigma(x) = \\frac{1}{1 + e^{-x}}$, i.e. the sigmoid function. This function scales the prediction to be a probability between 0 and 1, and can then be thresholded to get a discrete class prediction.\n",
    "\n",
    "Just as with linear regression, our objective in logistic regression is to learn the weights $𝑤$ which best fit the data. For L2-regularized logistic regression, we find an optimal $w$ to minimize the following loss function:\n",
    "\n",
    "$$\n",
    "\\min_{w} \\ -y^T \\ \\text{log}(\\sigma(Xw)) \\ - \\  (\\mathbf{1} - y)^T \\ \\text{log}(\\mathbf{1} - \\sigma(Xw)) \\ + \\ \\alpha \\| w \\|^2_2 \\\\\n",
    "$$\n",
    "\n",
    "Unlike linear regression, however, logistic regression has no closed-form solution for the optimal $w$. So, we will use gradient descent to find the optimal $w$. The (n x 1) gradient vector $g$ for the loss function above is:\n",
    "\n",
    "$$\n",
    "g = X^T \\Big(\\sigma(Xw) - y\\Big) + 2 \\alpha w\n",
    "$$\n",
    "\n",
    "Below is pseudocode for gradient descent to find the optimal $w$. You should first initialize $w$ (e.g. to a (n x 1) zero vector). Then, for some number of epochs $t$, you should update $w$ with $w - \\eta g $, where $\\eta$ is the learning rate and $g$ is the gradient. You can learn more about gradient descent [here](https://www.coursera.org/lecture/machine-learning/gradient-descent-8SpIM).\n",
    "\n",
    "> $w = \\mathbf{0}$\n",
    "> \n",
    "> $\\text{for } i = 1, 2, ..., t$\n",
    ">\n",
    "> $\\quad \\quad w = w - \\eta g $\n"
   ]
  },
  {
   "cell_type": "markdown",
   "id": "809b33ad",
   "metadata": {
    "id": "809b33ad"
   },
   "source": [
    "Implement a LogisticRegression class with five methods: train, predict, calculate_loss, calculate_gradient, and calculate_sigmoid. **You may NOT use sklearn for this implementation. It is highly recommended that you vectorize your code.**"
   ]
  },
  {
   "cell_type": "code",
   "execution_count": 47,
   "id": "cd1e7832-0e5d-4736-8045-3c7560d23219",
   "metadata": {
    "id": "0cdcee7c"
   },
   "outputs": [],
   "source": [
    "class LogisticRegression():\n",
    "    '''\n",
    "    Logistic regression model with L2 regularization.\n",
    "\n",
    "    Attributes\n",
    "    ----------\n",
    "    alpha: regularization parameter\n",
    "    t: number of epochs to run gradient descent\n",
    "    eta: learning rate for gradient descent\n",
    "    w: (n x 1) weight vector\n",
    "    '''\n",
    "    \n",
    "    def __init__(self, alpha, t, eta):\n",
    "        self.alpha = alpha\n",
    "        self.t = t\n",
    "        self.eta = eta\n",
    "        self.w = None\n",
    "\n",
    "    def train(self, X, y):\n",
    "        '''Trains logistic regression model using gradient descent \n",
    "        (sets w to its optimal value).\n",
    "        \n",
    "        Parameters\n",
    "        ----------\n",
    "        X : (m x n) feature matrix\n",
    "        y: (m x 1) label vector\n",
    "        \n",
    "        Returns\n",
    "        -------\n",
    "        losses: (t x 1) vector of losses at each epoch of gradient descent\n",
    "        '''\n",
    "        self.w = np.zeros((len(X.columns), 1))\n",
    "        loss_ls = list()\n",
    "        for i in range(self.t):\n",
    "            # append to loss list\n",
    "            loss_ls.append(self.calculate_loss(X, y)[0][0])\n",
    "            # find gradient\n",
    "            grad = self.calculate_gradient(X, y)\n",
    "            # alter w state\n",
    "            self.w = self.w - (self.eta * grad)\n",
    "        # update w attrib\n",
    "        # return vector\n",
    "        return np.array([loss_ls]).T\n",
    "        \n",
    "    def predict(self, X):\n",
    "        '''Predicts on X using trained model. Make sure to threshold \n",
    "        the predicted probability to return a 0 or 1 prediction.\n",
    "        \n",
    "        Parameters\n",
    "        ----------\n",
    "        X : (m x n) feature matrix\n",
    "        \n",
    "        Returns\n",
    "        -------\n",
    "        y_pred: (m x 1) 0/1 prediction vector\n",
    "        '''\n",
    "        # case of w not trained\n",
    "        if w is None:\n",
    "            return \"Must Train on Data\"\n",
    "        return np.round(self.calculate_sigmoid(X @ self.w))\n",
    "    \n",
    "    def calculate_loss(self, X, y):\n",
    "        '''Calculates the logistic regression loss using X, y, w, \n",
    "        and alpha. Useful as a helper function for train().\n",
    "        \n",
    "        Parameters\n",
    "        ----------\n",
    "        X : (m x n) feature matrix\n",
    "        y: (m x 1) label vector\n",
    "        \n",
    "        Returns\n",
    "        -------\n",
    "        loss: (scalar) logistic regression loss\n",
    "        '''\n",
    "        first_term = y.T @ np.log(self.calculate_sigmoid(X @ self.w))\n",
    "        second_term = ((np.ones((len(y), 1)) - y).T) @ np.log(np.ones((len(X @ self.w), 1)) - self.calculate_sigmoid(X @ self.w))\n",
    "        third_term = self.alpha*(np.dot(self.w.T, self.w))\n",
    "        return - first_term - second_term + third_term\n",
    "    \n",
    "    def calculate_gradient(self, X, y):\n",
    "        '''Calculates the gradient of the logistic regression loss \n",
    "        using X, y, w, and alpha. Useful as a helper function \n",
    "        for train().\n",
    "        \n",
    "        Parameters\n",
    "        ----------\n",
    "        X : (m x n) feature matrix\n",
    "        y: (m x 1) label vector\n",
    "        \n",
    "        Returns\n",
    "        -------\n",
    "        gradient: (n x 1) gradient vector for logistic regression loss\n",
    "        '''\n",
    "        sig_interior = X @ self.w\n",
    "        interior = self.calculate_sigmoid(sig_interior) - y\n",
    "        first_term = X.T @ interior\n",
    "        total = first_term + (2 * self.alpha * self.w)\n",
    "        return total\n",
    "    \n",
    "    def calculate_sigmoid(self, x):\n",
    "        '''Calculates the sigmoid function on each element in vector x. \n",
    "        Useful as a helper function for predict(), calculate_loss(), \n",
    "        and calculate_gradient().\n",
    "        \n",
    "        Parameters\n",
    "        ----------\n",
    "        x: (m x 1) vector\n",
    "        \n",
    "        Returns\n",
    "        -------\n",
    "        sigmoid_x: (m x 1) vector of sigmoid on each element in x\n",
    "        '''\n",
    "        return 1/(1+np.exp(-x))"
   ]
  },
  {
   "cell_type": "code",
   "execution_count": 48,
   "id": "a003d61d-1a6d-45c6-bbff-a01a3e13e02d",
   "metadata": {
    "id": "0cdcee7c"
   },
   "outputs": [
    {
     "data": {
      "text/plain": [
       "1900"
      ]
     },
     "execution_count": 48,
     "metadata": {},
     "output_type": "execute_result"
    }
   ],
   "source": [
    "w = np.zeros((6,1))\n",
    "w.shape[1]\n",
    "voice_X_train.shape[0]\n",
    "voice_y_train.T.shape[1]"
   ]
  },
  {
   "cell_type": "markdown",
   "id": "d6f34a6f",
   "metadata": {
    "id": "d6f34a6f"
   },
   "source": [
    "**2.6 Plot Loss over Epoch and Search the space randomly to tune hyperparams.**\n",
    "\n",
    "Using **alpha between (0,1), eta between(0, 0.001) and t between (0, 100)**, find the best hyperparameters for LogisticRegression.\n",
    "\n",
    "Compare accuracy on the test dataset for both the scenarios."
   ]
  },
  {
   "cell_type": "code",
   "execution_count": 49,
   "id": "9a7c40ca-5941-420b-90d7-7d0d876babe1",
   "metadata": {
    "id": "c785b3bb"
   },
   "outputs": [
    {
     "data": {
      "image/png": "[encoded data removed]",
      "text/plain": [
       "<Figure size 432x288 with 1 Axes>"
      ]
     },
     "metadata": {
      "needs_background": "light"
     },
     "output_type": "display_data"
    }
   ],
   "source": [
    "logreg = LogisticRegression(alpha=0, t=100, eta=1e-3)\n",
    "losses = logreg.train(voice_X_train, voice_y_train)\n",
    "plt.plot(losses)\n",
    "plt.xlabel('Epoch')\n",
    "plt.ylabel('Loss')\n",
    "plt.show()"
   ]
  },
  {
   "cell_type": "code",
   "execution_count": 50,
   "id": "c5f73fdd-1895-4654-8f04-af2d14c8d34a",
   "metadata": {
    "id": "c785b3bb"
   },
   "outputs": [
    {
     "name": "stdout",
     "output_type": "stream",
     "text": [
      "Training accuracy w/ alpha = 0, 0.9731578947368421\n",
      "Validation accuracy w/ alpha = 0, 0.9671052631578947\n",
      "Test accuracy w/ alpha = 0, 0.9744094488188977\n"
     ]
    }
   ],
   "source": [
    "print(\"Training accuracy w/ alpha = 0,\", accuracy_score(voice_y_train, logreg.predict(voice_X_train).to_numpy()))\n",
    "print(\"Validation accuracy w/ alpha = 0,\", accuracy_score(voice_y_val, logreg.predict(voice_X_val).to_numpy()))\n",
    "print(\"Test accuracy w/ alpha = 0,\", accuracy_score(voice_y_test, logreg.predict(voice_X_test).to_numpy()))"
   ]
  },
  {
   "cell_type": "code",
   "execution_count": 52,
   "id": "851d135b-4ff8-4dec-b653-945d4165bb1e",
   "metadata": {
    "id": "c785b3bb"
   },
   "outputs": [
    {
     "name": "stdout",
     "output_type": "stream",
     "text": [
      "0.0\n",
      "0.1111111111111111\n",
      "0.2222222222222222\n",
      "0.3333333333333333\n",
      "0.4444444444444444\n",
      "0.5555555555555556\n",
      "0.6666666666666666\n",
      "0.7777777777777777\n",
      "0.8888888888888888\n",
      "1.0\n"
     ]
    }
   ],
   "source": [
    "# hyperparameter search\n",
    "alphas = np.linspace(0, 1, num=10)\n",
    "etas = np.linspace(0, 0.001, num=10)\n",
    "ts = np.round(np.linspace(1, 100, num=10)).astype('int')\n",
    "accuracies = list()\n",
    "params = list()\n",
    "for a in alphas:\n",
    "    print(a)\n",
    "    for eta in etas:\n",
    "        for t in ts:\n",
    "            logreg = LogisticRegression(alpha=a, t=t, eta=eta)\n",
    "            losses = logreg.train(voice_X_train, voice_y_train)\n",
    "            accuracies.append(accuracy_score(voice_y_val, logreg.predict(voice_X_val).to_numpy()))\n",
    "            params.append([a, eta, t])"
   ]
  },
  {
   "cell_type": "code",
   "execution_count": 53,
   "id": "80d6b3f7-dfe3-4dfe-81a3-38c518b21d09",
   "metadata": {
    "id": "c785b3bb"
   },
   "outputs": [
    {
     "name": "stdout",
     "output_type": "stream",
     "text": [
      "Best Validation Accuracy: 0.9671052631578947\n",
      "with params\n",
      "Alpha: 0.0 Eta: 0.0007777777777777778 t: 100\n"
     ]
    }
   ],
   "source": [
    "best_acc_at = np.array(accuracies).argmax()\n",
    "print(\"Best Validation Accuracy:\", accuracies[best_acc_at])\n",
    "print(\"with params\")\n",
    "print(\"Alpha:\", params[best_acc_at][0], \"Eta:\", params[best_acc_at][1], \"t:\", params[best_acc_at][2])"
   ]
  },
  {
   "cell_type": "code",
   "execution_count": 54,
   "id": "2f357b04-2831-45da-a1c1-453c21b39863",
   "metadata": {
    "id": "c785b3bb"
   },
   "outputs": [
    {
     "name": "stdout",
     "output_type": "stream",
     "text": [
      "Test Accuracy 0.9744094488188977\n"
     ]
    }
   ],
   "source": [
    "best_logreg = LogisticRegression(alpha=params[best_acc_at][0], eta=params[best_acc_at][1], t=params[best_acc_at][2])\n",
    "best_logreg.train(voice_X_train, voice_y_train)\n",
    "print(\"Test Accuracy\", accuracy_score(voice_y_test, logreg.predict(voice_X_test).to_numpy()))"
   ]
  },
  {
   "cell_type": "markdown",
   "id": "f188a581",
   "metadata": {
    "id": "f188a581"
   },
   "source": [
    "**Feature Importance**"
   ]
  },
  {
   "cell_type": "code",
   "execution_count": 59,
   "id": "8b31e859",
   "metadata": {
    "id": "8b31e859"
   },
   "outputs": [
    {
     "data": {
      "image/png": "[encoded data removed]",
      "text/plain": [
       "<Figure size 432x288 with 1 Axes>"
      ]
     },
     "metadata": {
      "needs_background": "light"
     },
     "output_type": "display_data"
    }
   ],
   "source": [
    "#code here\n",
    "best_logreg.w.plot.bar()\n",
    "plt.show()"
   ]
  },
  {
   "cell_type": "markdown",
   "id": "3307a991",
   "metadata": {
    "id": "3307a991"
   },
   "source": [
    "\n",
    "**Part 3: Support Vector Machines**"
   ]
  },
  {
   "cell_type": "markdown",
   "id": "_cdNyA8r8eNX",
   "metadata": {
    "id": "_cdNyA8r8eNX"
   },
   "source": [
    "**Dual SVM**\n",
    "\n",
    "Train dual SVM for both kernel=“linear” and kernel=“rbf” on Voice Recognition data.\n"
   ]
  },
  {
   "cell_type": "code",
   "execution_count": 73,
   "id": "b002ac23-582e-43c8-861a-8543cfdc55cf",
   "metadata": {
    "id": "zq6AK8Jt8gWN"
   },
   "outputs": [
    {
     "name": "stdout",
     "output_type": "stream",
     "text": [
      "Linear\n",
      "train acc: 0.9763157894736842\n",
      "val acc: 0.9671052631578947\n",
      "test acc: 0.9763779527559056\n",
      "Support vectors: [[ 2.47710916 -0.53205133  2.73287538 ... -0.70278302 -1.4491878\n",
      "   1.        ]\n",
      " [ 1.22015735 -0.23766319  1.31814452 ...  0.03312008  0.56772565\n",
      "   1.        ]\n",
      " [-0.72795944  1.33902382 -0.44230403 ... -0.70278302 -0.32057605\n",
      "   1.        ]\n",
      " ...\n",
      " [-0.57273925  1.08638842 -1.10503558 ... -0.5801325  -0.47092439\n",
      "   1.        ]\n",
      " [ 0.39044339 -1.97543485  0.11544998 ... -0.70278302 -0.64700631\n",
      "   1.        ]\n",
      " [ 1.22651053 -2.19583432  0.71505748 ... -0.70278302 -1.01303976\n",
      "   1.        ]]\n"
     ]
    },
    {
     "name": "stderr",
     "output_type": "stream",
     "text": [
      "D:\\langs\\anaconda_dist\\lib\\site-packages\\sklearn\\utils\\validation.py:985: DataConversionWarning: A column-vector y was passed when a 1d array was expected. Please change the shape of y to (n_samples, ), for example using ravel().\n",
      "  y = column_or_1d(y, warn=True)\n"
     ]
    }
   ],
   "source": [
    "print(\"Linear\")\n",
    "linsvc = SVC(kernel='linear')\n",
    "linsvc.fit(voice_X_train, voice_y_train)\n",
    "pred_train = np.array(linsvc.predict(voice_X_train)).T\n",
    "print(\"train acc:\", accuracy_score(voice_y_train, pred_train))\n",
    "val_train = np.array(linsvc.predict(voice_X_val)).T\n",
    "print(\"val acc:\", accuracy_score(voice_y_val, val_train))\n",
    "test_train = np.array(linsvc.predict(voice_X_test)).T\n",
    "print(\"test acc:\", accuracy_score(voice_y_test, test_train))\n",
    "print(\"Support vectors:\", linsvc.support_vectors_)"
   ]
  },
  {
   "cell_type": "code",
   "execution_count": 74,
   "id": "b48d1664-d0da-4002-9962-fe469e451fa9",
   "metadata": {
    "id": "zq6AK8Jt8gWN"
   },
   "outputs": [
    {
     "name": "stdout",
     "output_type": "stream",
     "text": [
      "RBF\n",
      "train acc: 0.9852631578947368\n",
      "val acc: 0.9763157894736842\n",
      "test acc: 0.9822834645669292\n",
      "Support vectors: [[ 0.90148744 -0.30609057  0.97850216 ... -0.45748199 -0.80287814\n",
      "   1.        ]\n",
      " [ 1.54189463 -1.59617616  1.82824472 ... -0.70278302 -0.13257293\n",
      "   1.        ]\n",
      " [ 2.47710916 -0.53205133  2.73287538 ... -0.70278302 -1.4491878\n",
      "   1.        ]\n",
      " ...\n",
      " [-0.7557001  -0.71181581 -0.50673167 ... -0.70278302  0.69696429\n",
      "   1.        ]\n",
      " [ 1.21133785 -0.49564899  0.48563998 ...  1.62757678  0.37312107\n",
      "   1.        ]\n",
      " [ 1.22651053 -2.19583432  0.71505748 ... -0.70278302 -1.01303976\n",
      "   1.        ]]\n"
     ]
    },
    {
     "name": "stderr",
     "output_type": "stream",
     "text": [
      "D:\\langs\\anaconda_dist\\lib\\site-packages\\sklearn\\utils\\validation.py:985: DataConversionWarning: A column-vector y was passed when a 1d array was expected. Please change the shape of y to (n_samples, ), for example using ravel().\n",
      "  y = column_or_1d(y, warn=True)\n"
     ]
    }
   ],
   "source": [
    "print(\"RBF\")\n",
    "svc = SVC(kernel='rbf')\n",
    "svc.fit(voice_X_train, voice_y_train)\n",
    "pred_train = np.array(svc.predict(voice_X_train)).T\n",
    "print(\"train acc:\", accuracy_score(voice_y_train, pred_train))\n",
    "val_train = np.array(svc.predict(voice_X_val)).T\n",
    "print(\"val acc:\", accuracy_score(voice_y_val, val_train))\n",
    "test_train = np.array(svc.predict(voice_X_test)).T\n",
    "print(\"test acc:\", accuracy_score(voice_y_test, test_train))\n",
    "print(\"Support vectors:\", svc.support_vectors_)"
   ]
  },
  {
   "cell_type": "markdown",
   "id": "0a734bb2-e75c-4a2a-bcda-7b9c814eaf0b",
   "metadata": {
    "id": "zq6AK8Jt8gWN"
   },
   "source": [
    "RBF has a better accuracy. RBF is marginally better because we dont have a super large amount of training data. Support vectors are of expected shape"
   ]
  },
  {
   "cell_type": "markdown",
   "id": "P2h1rkaQ8rOr",
   "metadata": {
    "id": "P2h1rkaQ8rOr"
   },
   "source": [
    "**Using Kernel “rbf”, tune the hyperparameter “C” using the Grid Search & k-fold cross validation.**"
   ]
  },
  {
   "cell_type": "code",
   "execution_count": 81,
   "id": "QVoqZtQ38wPN",
   "metadata": {
    "id": "QVoqZtQ38wPN"
   },
   "outputs": [
    {
     "name": "stderr",
     "output_type": "stream",
     "text": [
      "D:\\langs\\anaconda_dist\\lib\\site-packages\\sklearn\\utils\\validation.py:985: DataConversionWarning: A column-vector y was passed when a 1d array was expected. Please change the shape of y to (n_samples, ), for example using ravel().\n",
      "  y = column_or_1d(y, warn=True)\n",
      "D:\\langs\\anaconda_dist\\lib\\site-packages\\sklearn\\utils\\validation.py:985: DataConversionWarning: A column-vector y was passed when a 1d array was expected. Please change the shape of y to (n_samples, ), for example using ravel().\n",
      "  y = column_or_1d(y, warn=True)\n",
      "D:\\langs\\anaconda_dist\\lib\\site-packages\\sklearn\\utils\\validation.py:985: DataConversionWarning: A column-vector y was passed when a 1d array was expected. Please change the shape of y to (n_samples, ), for example using ravel().\n",
      "  y = column_or_1d(y, warn=True)\n",
      "D:\\langs\\anaconda_dist\\lib\\site-packages\\sklearn\\utils\\validation.py:985: DataConversionWarning: A column-vector y was passed when a 1d array was expected. Please change the shape of y to (n_samples, ), for example using ravel().\n",
      "  y = column_or_1d(y, warn=True)\n",
      "D:\\langs\\anaconda_dist\\lib\\site-packages\\sklearn\\utils\\validation.py:985: DataConversionWarning: A column-vector y was passed when a 1d array was expected. Please change the shape of y to (n_samples, ), for example using ravel().\n",
      "  y = column_or_1d(y, warn=True)\n",
      "D:\\langs\\anaconda_dist\\lib\\site-packages\\sklearn\\utils\\validation.py:985: DataConversionWarning: A column-vector y was passed when a 1d array was expected. Please change the shape of y to (n_samples, ), for example using ravel().\n",
      "  y = column_or_1d(y, warn=True)\n",
      "D:\\langs\\anaconda_dist\\lib\\site-packages\\sklearn\\utils\\validation.py:985: DataConversionWarning: A column-vector y was passed when a 1d array was expected. Please change the shape of y to (n_samples, ), for example using ravel().\n",
      "  y = column_or_1d(y, warn=True)\n",
      "D:\\langs\\anaconda_dist\\lib\\site-packages\\sklearn\\utils\\validation.py:985: DataConversionWarning: A column-vector y was passed when a 1d array was expected. Please change the shape of y to (n_samples, ), for example using ravel().\n",
      "  y = column_or_1d(y, warn=True)\n",
      "D:\\langs\\anaconda_dist\\lib\\site-packages\\sklearn\\utils\\validation.py:985: DataConversionWarning: A column-vector y was passed when a 1d array was expected. Please change the shape of y to (n_samples, ), for example using ravel().\n",
      "  y = column_or_1d(y, warn=True)\n",
      "D:\\langs\\anaconda_dist\\lib\\site-packages\\sklearn\\utils\\validation.py:985: DataConversionWarning: A column-vector y was passed when a 1d array was expected. Please change the shape of y to (n_samples, ), for example using ravel().\n",
      "  y = column_or_1d(y, warn=True)\n",
      "D:\\langs\\anaconda_dist\\lib\\site-packages\\sklearn\\utils\\validation.py:985: DataConversionWarning: A column-vector y was passed when a 1d array was expected. Please change the shape of y to (n_samples, ), for example using ravel().\n",
      "  y = column_or_1d(y, warn=True)\n",
      "D:\\langs\\anaconda_dist\\lib\\site-packages\\sklearn\\utils\\validation.py:985: DataConversionWarning: A column-vector y was passed when a 1d array was expected. Please change the shape of y to (n_samples, ), for example using ravel().\n",
      "  y = column_or_1d(y, warn=True)\n",
      "D:\\langs\\anaconda_dist\\lib\\site-packages\\sklearn\\utils\\validation.py:985: DataConversionWarning: A column-vector y was passed when a 1d array was expected. Please change the shape of y to (n_samples, ), for example using ravel().\n",
      "  y = column_or_1d(y, warn=True)\n",
      "D:\\langs\\anaconda_dist\\lib\\site-packages\\sklearn\\utils\\validation.py:985: DataConversionWarning: A column-vector y was passed when a 1d array was expected. Please change the shape of y to (n_samples, ), for example using ravel().\n",
      "  y = column_or_1d(y, warn=True)\n",
      "D:\\langs\\anaconda_dist\\lib\\site-packages\\sklearn\\utils\\validation.py:985: DataConversionWarning: A column-vector y was passed when a 1d array was expected. Please change the shape of y to (n_samples, ), for example using ravel().\n",
      "  y = column_or_1d(y, warn=True)\n",
      "D:\\langs\\anaconda_dist\\lib\\site-packages\\sklearn\\utils\\validation.py:985: DataConversionWarning: A column-vector y was passed when a 1d array was expected. Please change the shape of y to (n_samples, ), for example using ravel().\n",
      "  y = column_or_1d(y, warn=True)\n",
      "D:\\langs\\anaconda_dist\\lib\\site-packages\\sklearn\\utils\\validation.py:985: DataConversionWarning: A column-vector y was passed when a 1d array was expected. Please change the shape of y to (n_samples, ), for example using ravel().\n",
      "  y = column_or_1d(y, warn=True)\n",
      "D:\\langs\\anaconda_dist\\lib\\site-packages\\sklearn\\utils\\validation.py:985: DataConversionWarning: A column-vector y was passed when a 1d array was expected. Please change the shape of y to (n_samples, ), for example using ravel().\n",
      "  y = column_or_1d(y, warn=True)\n",
      "D:\\langs\\anaconda_dist\\lib\\site-packages\\sklearn\\utils\\validation.py:985: DataConversionWarning: A column-vector y was passed when a 1d array was expected. Please change the shape of y to (n_samples, ), for example using ravel().\n",
      "  y = column_or_1d(y, warn=True)\n",
      "D:\\langs\\anaconda_dist\\lib\\site-packages\\sklearn\\utils\\validation.py:985: DataConversionWarning: A column-vector y was passed when a 1d array was expected. Please change the shape of y to (n_samples, ), for example using ravel().\n",
      "  y = column_or_1d(y, warn=True)\n",
      "D:\\langs\\anaconda_dist\\lib\\site-packages\\sklearn\\utils\\validation.py:985: DataConversionWarning: A column-vector y was passed when a 1d array was expected. Please change the shape of y to (n_samples, ), for example using ravel().\n",
      "  y = column_or_1d(y, warn=True)\n",
      "D:\\langs\\anaconda_dist\\lib\\site-packages\\sklearn\\utils\\validation.py:985: DataConversionWarning: A column-vector y was passed when a 1d array was expected. Please change the shape of y to (n_samples, ), for example using ravel().\n",
      "  y = column_or_1d(y, warn=True)\n",
      "D:\\langs\\anaconda_dist\\lib\\site-packages\\sklearn\\utils\\validation.py:985: DataConversionWarning: A column-vector y was passed when a 1d array was expected. Please change the shape of y to (n_samples, ), for example using ravel().\n",
      "  y = column_or_1d(y, warn=True)\n",
      "D:\\langs\\anaconda_dist\\lib\\site-packages\\sklearn\\utils\\validation.py:985: DataConversionWarning: A column-vector y was passed when a 1d array was expected. Please change the shape of y to (n_samples, ), for example using ravel().\n",
      "  y = column_or_1d(y, warn=True)\n",
      "D:\\langs\\anaconda_dist\\lib\\site-packages\\sklearn\\utils\\validation.py:985: DataConversionWarning: A column-vector y was passed when a 1d array was expected. Please change the shape of y to (n_samples, ), for example using ravel().\n",
      "  y = column_or_1d(y, warn=True)\n",
      "D:\\langs\\anaconda_dist\\lib\\site-packages\\sklearn\\utils\\validation.py:985: DataConversionWarning: A column-vector y was passed when a 1d array was expected. Please change the shape of y to (n_samples, ), for example using ravel().\n",
      "  y = column_or_1d(y, warn=True)\n",
      "D:\\langs\\anaconda_dist\\lib\\site-packages\\sklearn\\utils\\validation.py:985: DataConversionWarning: A column-vector y was passed when a 1d array was expected. Please change the shape of y to (n_samples, ), for example using ravel().\n",
      "  y = column_or_1d(y, warn=True)\n",
      "D:\\langs\\anaconda_dist\\lib\\site-packages\\sklearn\\utils\\validation.py:985: DataConversionWarning: A column-vector y was passed when a 1d array was expected. Please change the shape of y to (n_samples, ), for example using ravel().\n",
      "  y = column_or_1d(y, warn=True)\n",
      "D:\\langs\\anaconda_dist\\lib\\site-packages\\sklearn\\utils\\validation.py:985: DataConversionWarning: A column-vector y was passed when a 1d array was expected. Please change the shape of y to (n_samples, ), for example using ravel().\n",
      "  y = column_or_1d(y, warn=True)\n",
      "D:\\langs\\anaconda_dist\\lib\\site-packages\\sklearn\\utils\\validation.py:985: DataConversionWarning: A column-vector y was passed when a 1d array was expected. Please change the shape of y to (n_samples, ), for example using ravel().\n",
      "  y = column_or_1d(y, warn=True)\n",
      "D:\\langs\\anaconda_dist\\lib\\site-packages\\sklearn\\utils\\validation.py:985: DataConversionWarning: A column-vector y was passed when a 1d array was expected. Please change the shape of y to (n_samples, ), for example using ravel().\n",
      "  y = column_or_1d(y, warn=True)\n",
      "D:\\langs\\anaconda_dist\\lib\\site-packages\\sklearn\\utils\\validation.py:985: DataConversionWarning: A column-vector y was passed when a 1d array was expected. Please change the shape of y to (n_samples, ), for example using ravel().\n",
      "  y = column_or_1d(y, warn=True)\n",
      "D:\\langs\\anaconda_dist\\lib\\site-packages\\sklearn\\utils\\validation.py:985: DataConversionWarning: A column-vector y was passed when a 1d array was expected. Please change the shape of y to (n_samples, ), for example using ravel().\n",
      "  y = column_or_1d(y, warn=True)\n",
      "D:\\langs\\anaconda_dist\\lib\\site-packages\\sklearn\\utils\\validation.py:985: DataConversionWarning: A column-vector y was passed when a 1d array was expected. Please change the shape of y to (n_samples, ), for example using ravel().\n",
      "  y = column_or_1d(y, warn=True)\n",
      "D:\\langs\\anaconda_dist\\lib\\site-packages\\sklearn\\utils\\validation.py:985: DataConversionWarning: A column-vector y was passed when a 1d array was expected. Please change the shape of y to (n_samples, ), for example using ravel().\n",
      "  y = column_or_1d(y, warn=True)\n",
      "D:\\langs\\anaconda_dist\\lib\\site-packages\\sklearn\\utils\\validation.py:985: DataConversionWarning: A column-vector y was passed when a 1d array was expected. Please change the shape of y to (n_samples, ), for example using ravel().\n",
      "  y = column_or_1d(y, warn=True)\n",
      "D:\\langs\\anaconda_dist\\lib\\site-packages\\sklearn\\utils\\validation.py:985: DataConversionWarning: A column-vector y was passed when a 1d array was expected. Please change the shape of y to (n_samples, ), for example using ravel().\n",
      "  y = column_or_1d(y, warn=True)\n",
      "D:\\langs\\anaconda_dist\\lib\\site-packages\\sklearn\\utils\\validation.py:985: DataConversionWarning: A column-vector y was passed when a 1d array was expected. Please change the shape of y to (n_samples, ), for example using ravel().\n",
      "  y = column_or_1d(y, warn=True)\n",
      "D:\\langs\\anaconda_dist\\lib\\site-packages\\sklearn\\utils\\validation.py:985: DataConversionWarning: A column-vector y was passed when a 1d array was expected. Please change the shape of y to (n_samples, ), for example using ravel().\n",
      "  y = column_or_1d(y, warn=True)\n",
      "D:\\langs\\anaconda_dist\\lib\\site-packages\\sklearn\\utils\\validation.py:985: DataConversionWarning: A column-vector y was passed when a 1d array was expected. Please change the shape of y to (n_samples, ), for example using ravel().\n",
      "  y = column_or_1d(y, warn=True)\n",
      "D:\\langs\\anaconda_dist\\lib\\site-packages\\sklearn\\utils\\validation.py:985: DataConversionWarning: A column-vector y was passed when a 1d array was expected. Please change the shape of y to (n_samples, ), for example using ravel().\n",
      "  y = column_or_1d(y, warn=True)\n",
      "D:\\langs\\anaconda_dist\\lib\\site-packages\\sklearn\\utils\\validation.py:985: DataConversionWarning: A column-vector y was passed when a 1d array was expected. Please change the shape of y to (n_samples, ), for example using ravel().\n",
      "  y = column_or_1d(y, warn=True)\n",
      "D:\\langs\\anaconda_dist\\lib\\site-packages\\sklearn\\utils\\validation.py:985: DataConversionWarning: A column-vector y was passed when a 1d array was expected. Please change the shape of y to (n_samples, ), for example using ravel().\n",
      "  y = column_or_1d(y, warn=True)\n",
      "D:\\langs\\anaconda_dist\\lib\\site-packages\\sklearn\\utils\\validation.py:985: DataConversionWarning: A column-vector y was passed when a 1d array was expected. Please change the shape of y to (n_samples, ), for example using ravel().\n",
      "  y = column_or_1d(y, warn=True)\n",
      "D:\\langs\\anaconda_dist\\lib\\site-packages\\sklearn\\utils\\validation.py:985: DataConversionWarning: A column-vector y was passed when a 1d array was expected. Please change the shape of y to (n_samples, ), for example using ravel().\n",
      "  y = column_or_1d(y, warn=True)\n",
      "D:\\langs\\anaconda_dist\\lib\\site-packages\\sklearn\\utils\\validation.py:985: DataConversionWarning: A column-vector y was passed when a 1d array was expected. Please change the shape of y to (n_samples, ), for example using ravel().\n",
      "  y = column_or_1d(y, warn=True)\n",
      "D:\\langs\\anaconda_dist\\lib\\site-packages\\sklearn\\utils\\validation.py:985: DataConversionWarning: A column-vector y was passed when a 1d array was expected. Please change the shape of y to (n_samples, ), for example using ravel().\n",
      "  y = column_or_1d(y, warn=True)\n",
      "D:\\langs\\anaconda_dist\\lib\\site-packages\\sklearn\\utils\\validation.py:985: DataConversionWarning: A column-vector y was passed when a 1d array was expected. Please change the shape of y to (n_samples, ), for example using ravel().\n",
      "  y = column_or_1d(y, warn=True)\n",
      "D:\\langs\\anaconda_dist\\lib\\site-packages\\sklearn\\utils\\validation.py:985: DataConversionWarning: A column-vector y was passed when a 1d array was expected. Please change the shape of y to (n_samples, ), for example using ravel().\n",
      "  y = column_or_1d(y, warn=True)\n",
      "D:\\langs\\anaconda_dist\\lib\\site-packages\\sklearn\\utils\\validation.py:985: DataConversionWarning: A column-vector y was passed when a 1d array was expected. Please change the shape of y to (n_samples, ), for example using ravel().\n",
      "  y = column_or_1d(y, warn=True)\n"
     ]
    }
   ],
   "source": [
    "from sklearn.model_selection import cross_val_score\n",
    "\n",
    "voice_X_val, voice_X_test, voice_y_val, voice_y_test = train_test_split(voice_X, voice_y,\n",
    "                                                                random_state=23, train_size=0.8)\n",
    "c_vals = np.round(np.linspace(1, 100, num=10))\n",
    "model_scores = list()\n",
    "for c_val in c_vals:\n",
    "    svc = SVC(kernel='rbf', C=c_val)\n",
    "    scores = cross_val_score(svc, voice_X_val, voice_y_val, cv=5)\n",
    "    model_scores.append(np.mean(scores))"
   ]
  },
  {
   "cell_type": "code",
   "execution_count": 85,
   "id": "d82e4b54-8793-4c14-b092-4c4f6785cb67",
   "metadata": {},
   "outputs": [
    {
     "name": "stdout",
     "output_type": "stream",
     "text": [
      "Best Score: 0.977903033421428\n",
      "With C value: 100.0\n",
      "With accuracy: 0.9779179810725552\n"
     ]
    },
    {
     "name": "stderr",
     "output_type": "stream",
     "text": [
      "D:\\langs\\anaconda_dist\\lib\\site-packages\\sklearn\\utils\\validation.py:985: DataConversionWarning: A column-vector y was passed when a 1d array was expected. Please change the shape of y to (n_samples, ), for example using ravel().\n",
      "  y = column_or_1d(y, warn=True)\n"
     ]
    }
   ],
   "source": [
    "best_cval = np.array(model_scores).argmax()\n",
    "print(\"Best Score:\", model_scores[best_cval])\n",
    "print(\"With C value:\", c_vals[best_cval])\n",
    "svc = SVC(kernel='rbf', C=c_vals[best_cval])\n",
    "svc.fit(voice_X_val, voice_y_val)\n",
    "preds = svc.predict(voice_X_test)\n",
    "print(\"With accuracy:\", accuracy_score(voice_y_test, preds))"
   ]
  },
  {
   "cell_type": "code",
   "execution_count": null,
   "id": "c6183937-9c30-4fc7-9f72-fadb5f895792",
   "metadata": {},
   "outputs": [],
   "source": []
  }
 ],
 "metadata": {
  "colab": {
   "collapsed_sections": [
    "71ebca87",
    "1e3b7ca8",
    "c48a741e",
    "c12c284a"
   ],
   "name": "Assignment_1_Spring_22_updated.ipynb",
   "provenance": []
  },
  "kernelspec": {
   "display_name": "Python 3.9.12 ('tf-gpu')",
   "language": "python",
   "name": "python3"
  },
  "language_info": {
   "codemirror_mode": {
    "name": "ipython",
    "version": 3
   },
   "file_extension": ".py",
   "mimetype": "text/x-python",
   "name": "python",
   "nbconvert_exporter": "python",
   "pygments_lexer": "ipython3",
   "version": "3.9.12"
  },
  "vscode": {
   "interpreter": {
    "hash": "1c9ece6d5e3a61ef188a80f993fe2bc31561efaaa1bfc5da7794f01208afce4e"
   }
  }
 },
 "nbformat": 4,
 "nbformat_minor": 5
}
